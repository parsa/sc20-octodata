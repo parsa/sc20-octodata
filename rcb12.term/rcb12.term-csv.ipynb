{
 "cells": [
  {
   "cell_type": "markdown",
   "metadata": {},
   "source": [
    "Input: Octo-Tiger HPX output, including Performance counter values\n",
    "\n",
    "Output: CSV\n",
    "```csv\n",
    "iteration,locality,subgrids,amr_bound,subgrid_leaves,idle_rate_0,idle_rate_1,...,idle_rate_19\n",
    "```"
   ]
  },
  {
   "cell_type": "code",
   "execution_count": 1,
   "metadata": {},
   "outputs": [],
   "source": [
    "import sys\n",
    "import os\n",
    "\n",
    "sys.path.insert(0, os.path.abspath('.'))"
   ]
  },
  {
   "cell_type": "code",
   "execution_count": 2,
   "metadata": {},
   "outputs": [],
   "source": [
    "import re\n",
    "import pandas as pd\n",
    "import numpy as np\n",
    "import rcb12_term.helpers as h"
   ]
  },
  {
   "cell_type": "code",
   "execution_count": 3,
   "metadata": {},
   "outputs": [
    {
     "name": "stdout",
     "output_type": "stream",
     "text": [
      "subject: 64_4.txt.xz\n"
     ]
    }
   ],
   "source": [
    "files = h.list_txt_files_in_cur_dir('*.txt.xz')\n",
    "target = files[0]\n",
    "print('subject:', target)\n",
    "hpx_out = h.read_file(target)"
   ]
  },
  {
   "cell_type": "code",
   "execution_count": 4,
   "metadata": {},
   "outputs": [],
   "source": [
    "dec_val_regex = re.compile(\n",
    "    r'^(/[^,\\n]+)(,[^,\\n]+){4,5}$', re.MULTILINE\n",
    ")"
   ]
  },
  {
   "cell_type": "code",
   "execution_count": 5,
   "metadata": {},
   "outputs": [],
   "source": [
    "def generator(hpx_out):\n",
    "    for i in dec_val_regex.finditer(hpx_out):\n",
    "        yield i[0] + '\\n'"
   ]
  },
  {
   "cell_type": "code",
   "execution_count": 6,
   "metadata": {},
   "outputs": [],
   "source": [
    "class generator_reader(object):\n",
    "    def __init__(self, hpx_out):\n",
    "        self.hpx_out = hpx_out\n",
    "        self.gen = generator(self.hpx_out)\n",
    "        \n",
    "    def __iter__(self):\n",
    "        return self\n",
    "\n",
    "    def read(self, n=0):\n",
    "        try:\n",
    "            o = next(self.gen)\n",
    "            if 'CUDA' in o:\n",
    "                #print(o)\n",
    "                raise RuntimeError('Cant happen')\n",
    "            return o\n",
    "        except StopIteration:\n",
    "            return ''"
   ]
  },
  {
   "cell_type": "code",
   "execution_count": 7,
   "metadata": {},
   "outputs": [],
   "source": [
    "df = pd.read_csv(\n",
    "    generator_reader(hpx_out),\n",
    "    names=['full_counter_name', 'iteration', 'timestamp', 'timestamp_unit', 'value', 'value_unit'],\n",
    "    dtype={'full_counter_name': 'str', 'iteration': 'uint64', 'timestamp': 'float64', 'timestamp_unit': 'str', 'value': 'float64', 'value_unit': 'str'},\n",
    "    #index_col=False\n",
    ")"
   ]
  },
  {
   "cell_type": "code",
   "execution_count": 8,
   "metadata": {},
   "outputs": [],
   "source": [
    "assert 0 != len(df)"
   ]
  },
  {
   "cell_type": "code",
   "execution_count": 9,
   "metadata": {},
   "outputs": [],
   "source": [
    "assert 0 == len(df[df.iteration.isna()])\n",
    "assert 0 == len(df[df.timestamp.isna()])\n",
    "assert 0 == len(df[df.timestamp_unit.isna()])\n",
    "assert 0 == len(df[df.value.isna()])"
   ]
  },
  {
   "cell_type": "code",
   "execution_count": 10,
   "metadata": {},
   "outputs": [],
   "source": [
    "df[['objectname', 'locality', 'instancename', 'countername']] = df.full_counter_name.str.extract('/(.+){locality#(\\d+)/(.+)}/(.+)', expand=True)"
   ]
  },
  {
   "cell_type": "code",
   "execution_count": 11,
   "metadata": {},
   "outputs": [],
   "source": [
    "assert 0 == len(df[df.objectname.isna()])\n",
    "assert 0 == len(df[df.locality.isna()])\n",
    "assert 0 == len(df[df.instancename.isna()])\n",
    "assert 0 == len(df[df.countername.isna()])"
   ]
  },
  {
   "cell_type": "code",
   "execution_count": 12,
   "metadata": {},
   "outputs": [],
   "source": [
    "df['thread_id'] = df.instancename.str.extract('pool#default/worker-thread#(\\d+)', expand=True).astype('uint64', errors='ignore')\n",
    "df.locality = df.locality.astype('uint64', errors='raise')"
   ]
  },
  {
   "cell_type": "code",
   "execution_count": 13,
   "metadata": {},
   "outputs": [
    {
     "data": {
      "text/plain": [
       "(dtype('uint64'),\n",
       " dtype('uint64'),\n",
       " dtype('float64'),\n",
       " dtype('O'),\n",
       " dtype('float64'),\n",
       " dtype('O'),\n",
       " dtype('uint64'),\n",
       " dtype('O'))"
      ]
     },
     "execution_count": 13,
     "metadata": {},
     "output_type": "execute_result"
    }
   ],
   "source": [
    "(\n",
    "    df.iteration.dtype,\n",
    "    df.locality.dtype,\n",
    "    df.timestamp.dtype,\n",
    "    df.timestamp_unit.dtype,\n",
    "    df.value.dtype,\n",
    "    df.value_unit.dtype,\n",
    "    df.iteration.dtype,\n",
    "    df.thread_id.dtype,\n",
    ")"
   ]
  },
  {
   "cell_type": "code",
   "execution_count": 14,
   "metadata": {},
   "outputs": [],
   "source": [
    "df.loc[df.value_unit == '[0.01%]', 'value'] *= 0.01"
   ]
  },
  {
   "cell_type": "code",
   "execution_count": 15,
   "metadata": {},
   "outputs": [],
   "source": [
    "df.loc[df.value_unit == '[ns]', 'value'] *= 1.0e-9\n",
    "df.loc[df.value_unit == '[ns]', 'value_unit'] = '[s]'"
   ]
  },
  {
   "cell_type": "code",
   "execution_count": 16,
   "metadata": {},
   "outputs": [],
   "source": [
    "assert isinstance(df, pd.DataFrame)"
   ]
  },
  {
   "cell_type": "code",
   "execution_count": 17,
   "metadata": {},
   "outputs": [],
   "source": [
    "df.iteration = pd.to_numeric(df.iteration, downcast='unsigned')\n",
    "df.timestamp = pd.to_numeric(df.timestamp)\n",
    "df.value = pd.to_numeric(df.value)\n",
    "df.thread_id = pd.to_numeric(df.thread_id, downcast='unsigned')"
   ]
  },
  {
   "cell_type": "code",
   "execution_count": 18,
   "metadata": {},
   "outputs": [],
   "source": [
    "assert 0 != len(df[df.objectname == 'octotiger'])"
   ]
  },
  {
   "cell_type": "code",
   "execution_count": 19,
   "metadata": {},
   "outputs": [],
   "source": [
    "def drop_irrelevant_counters(df):\n",
    "    # Drop AGAS results\n",
    "    df.drop(df.index[df.objectname == 'agas'], inplace=True)\n",
    "    # Drop threads...pool#default/worker-thread...count/cumulative-phases\n",
    "    df.drop(df.index[df.countername == 'count/cumulative-phases'], inplace=True)\n",
    "    df.drop(df.index[df.countername == 'count/cumulative'], inplace=True)\n",
    "drop_irrelevant_counters(df)"
   ]
  },
  {
   "cell_type": "code",
   "execution_count": 20,
   "metadata": {},
   "outputs": [],
   "source": [
    "#check_all_data_units(df)\n",
    "# Units can only be [0.01%], 1, [s], and [ns]\n",
    "for i in df.value_unit.unique():\n",
    "    assert i in ['[s]', '[ns]', '[0.01%]'] or np.isnan(i)"
   ]
  },
  {
   "cell_type": "code",
   "execution_count": 21,
   "metadata": {},
   "outputs": [],
   "source": [
    "#def remove_unused_columns(df):\n",
    "# No parameters are expected\n",
    "#assert len(df.loc[~df.parameters.isnull()]) == 0\n",
    "#del df['parameters']\n",
    "\n",
    "del df['timestamp_unit']\n",
    "del df['value_unit']\n",
    "del df['timestamp']\n",
    "#del df['general_form']"
   ]
  },
  {
   "cell_type": "code",
   "execution_count": 22,
   "metadata": {},
   "outputs": [],
   "source": [
    "def process_df(df):\n",
    "    def get_octotiger_counters(df):\n",
    "        octo_pivot = df.pivot_table(\n",
    "            index=['iteration', 'locality'],\n",
    "            columns=['countername'],\n",
    "            values='value',\n",
    "            dropna=False)\n",
    "        del octo_pivot['idle-rate']\n",
    "        return octo_pivot\n",
    "    octotiger_counters = get_octotiger_counters(df)\n",
    "\n",
    "    def get_idle_rate_counters(df):\n",
    "        idle_rate_pivot = df.pivot_table(\n",
    "            index=['iteration', 'locality'],\n",
    "            columns=['thread_id'],\n",
    "            values='value')\n",
    "        return idle_rate_pivot\n",
    "    idle_rates = get_idle_rate_counters(df)\n",
    "\n",
    "    result = pd.concat([octotiger_counters, idle_rates], axis=1)\n",
    "    result.reset_index(inplace=True)\n",
    "    return result"
   ]
  },
  {
   "cell_type": "code",
   "execution_count": 23,
   "metadata": {},
   "outputs": [],
   "source": [
    "df = process_df(df)"
   ]
  },
  {
   "cell_type": "code",
   "execution_count": 24,
   "metadata": {},
   "outputs": [],
   "source": [
    "def get_csv_output_path(original_path):\n",
    "    def get_stem(path):\n",
    "        return os.path.splitext(path)[0]\n",
    "    return get_stem(get_stem(original_path)) + '.csv'\n",
    "of = get_csv_output_path(target)"
   ]
  },
  {
   "cell_type": "code",
   "execution_count": 25,
   "metadata": {},
   "outputs": [],
   "source": [
    "df.to_csv(of, float_format='%g', index=False)"
   ]
  }
 ],
 "metadata": {
  "file_extension": ".py",
  "kernelspec": {
   "display_name": "Python 3.7.7 64-bit",
   "language": "python",
   "name": "python37764bit54b629de4ec7432ea8f490cfc7e2cda2"
  },
  "language_info": {
   "codemirror_mode": {
    "name": "ipython",
    "version": 3
   },
   "file_extension": ".py",
   "mimetype": "text/x-python",
   "name": "python",
   "nbconvert_exporter": "python",
   "pygments_lexer": "ipython3",
   "version": "3.7.7"
  },
  "mimetype": "text/x-python",
  "name": "python",
  "npconvert_exporter": "python",
  "pygments_lexer": "ipython3",
  "version": 3
 },
 "nbformat": 4,
 "nbformat_minor": 4
}
