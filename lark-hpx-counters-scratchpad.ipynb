{
 "nbformat": 4,
 "nbformat_minor": 2,
 "metadata": {
  "language_info": {
   "name": "python",
   "codemirror_mode": {
    "name": "ipython",
    "version": 3
   },
   "version": "3.7.7-final"
  },
  "orig_nbformat": 2,
  "file_extension": ".py",
  "mimetype": "text/x-python",
  "name": "python",
  "npconvert_exporter": "python",
  "pygments_lexer": "ipython3",
  "version": 3,
  "kernelspec": {
   "name": "python37764bit028b16ef3c0d4c88b0cc0bf7703dbf34",
   "display_name": "Python 3.7.7 64-bit"
  }
 },
 "cells": [
  {
   "cell_type": "code",
   "execution_count": 1,
   "metadata": {},
   "outputs": [],
   "source": [
    "from lark import Lark"
   ]
  },
  {
   "cell_type": "code",
   "execution_count": 2,
   "metadata": {},
   "outputs": [],
   "source": [
    "subject = '/agas{locality#14/total}/count/resolve,1,27.906401,[s],94'"
   ]
  },
  {
   "cell_type": "code",
   "execution_count": 15,
   "metadata": {},
   "outputs": [],
   "source": [
    "l2 = Lark('''\n",
    "start: counter_line (\"\\\\n\" start)*\n",
    "counter_line: full_countername \",\" iteration \",\" timestamp \",\" timestamp_unit \",\" value  (\",\" value_unit)?\n",
    "iteration: NUMBER\n",
    "timestamp: NUMBER\n",
    "timestamp_unit: UNIT\n",
    "value: NUMBER\n",
    "value_unit: UNIT\n",
    "\n",
    "full_countername: \"/\" objectname \"{\" full_instancename \"}/\" countername (\"@\" parameters)?\n",
    "objectname: NAME\n",
    "countername: (countername \"/\")? NAME\n",
    "parameters: NUMBER\n",
    "\n",
    "full_instancename: instancename | full_countername\n",
    "instancename: countername (\"#\" index)? (\"/\" instancename)?\n",
    "index: NUMBER | NAME\n",
    "\n",
    "NAME: /[a-zA-Z_][a-zA-Z0-9_-]*/\n",
    "UNIT: /\\[[^]]+\\]/\n",
    "\n",
    "COMMENT: /[^[^\\\\n]*\\\\n/\n",
    "%ignore COMMENT\n",
    "\n",
    "%import common.NUMBER\n",
    "''')"
   ]
  },
  {
   "cell_type": "code",
   "execution_count": 16,
   "metadata": {},
   "outputs": [
    {
     "output_type": "stream",
     "name": "stdout",
     "text": "start\n  counter_line\n    full_countername\n      objectname\tthreads\n      full_instancename\n        instancename\n          countername\tlocality\n          index\t0\n          instancename\n            countername\ttotal\n            instancename\n              countername\ttotal\n      countername\tidle-rate\n    iteration\t1\n    timestamp\t28.124583\n    timestamp_unit\t[s]\n    value\t9952\n    value_unit\t[0.01%]\n  start\n    counter_line\n      full_countername\n        objectname\tagas\n        full_instancename\n          instancename\n            countername\tlocality\n            index\t63\n            instancename\n              countername\ttotal\n        countername\n          countername\ttime\n          route\n      iteration\t3\n      timestamp\t7228.840714\n      timestamp_unit\t[s]\n      value\t5.09444e+06\n      value_unit\t[ns]\n\n"
    }
   ],
   "source": [
    "print(l2.parse('''/threads{locality#0/total/total}/idle-rate,1,28.124583,[s],9952,[0.01%]\n",
    "/agas{locality#63/total}/time/route,3,7228.840714,[s],5.09444e+06,[ns]'''\n",
    ").pretty())"
   ]
  },
  {
   "cell_type": "code",
   "execution_count": 5,
   "metadata": {},
   "outputs": [
    {
     "output_type": "stream",
     "name": "stdout",
     "text": "start\n  full_countername\n    objectname\tagas\n    full_instancename\n      instancename\n        countername\tlocality\n        index\t0\n        instancename\n          countername\ttotal\n    countername\n      countername\tcount\n      resolve\n  iteration\t2\n  timestamp\t3628.242859\n  timestamp_unit\t[s]\n  value\t742\n\n"
    }
   ],
   "source": [
    "print(l2.parse('/agas{locality#0/total}/count/resolve,2,3628.242859,[s],742').pretty())"
   ]
  },
  {
   "cell_type": "code",
   "execution_count": 6,
   "metadata": {},
   "outputs": [
    {
     "output_type": "stream",
     "name": "stdout",
     "text": "start\n  full_countername\n    objectname\tthreads\n    full_instancename\n      instancename\n        countername\tlocality\n        index\t0\n        instancename\n          countername\ttotal\n          instancename\n            countername\ttotal\n    countername\n      countername\tcount\n      cumulative\n  iteration\t2\n  timestamp\t3628.275631\n  timestamp_unit\t[s]\n  value\t5.10546e+06\n\n"
    }
   ],
   "source": [
    "print(l2.parse('/threads{locality#0/total/total}/count/cumulative,2,3628.275631,[s],5.10546e+06').pretty())"
   ]
  },
  {
   "cell_type": "code",
   "execution_count": 7,
   "metadata": {},
   "outputs": [
    {
     "output_type": "stream",
     "name": "stdout",
     "text": "start\n  full_countername\n    objectname\tthreads\n    full_instancename\n      instancename\n        countername\tlocality\n        index\t63\n        instancename\n          countername\tpool\n          index\tdefault\n          instancename\n            countername\tworker-thread\n            index\t19\n    countername\n      countername\tcount\n      cumulative-phases\n  iteration\t1\n  timestamp\t28.075732\n  timestamp_unit\t[s]\n  value\t1331\n\n"
    }
   ],
   "source": [
    "print(l2.parse('/threads{locality#63/pool#default/worker-thread#19}/count/cumulative-phases,1,28.075732,[s],1331').pretty())"
   ]
  },
  {
   "cell_type": "code",
   "execution_count": 8,
   "metadata": {},
   "outputs": [
    {
     "output_type": "stream",
     "name": "stdout",
     "text": "start\n  full_countername\n    objectname\tstatistics\n    full_instancename\n      full_countername\n        objectname\tthreads\n        full_instancename\n          instancename\n            countername\tlocality\n            index\t0\n            instancename\n              countername\ttotal\n        countername\n          countername\tcount\n          cumulative\n    countername\taverage\n    parameters\t500\n  iteration\t1\n  timestamp\t0\n  timestamp_unit\t[s]\n  value\t0\n\n"
    }
   ],
   "source": [
    "print(l2.parse('/statistics{/threads{locality#0/total}/count/cumulative}/average@500,1,0,[s],0').pretty())"
   ]
  },
  {
   "cell_type": "code",
   "execution_count": 9,
   "metadata": {},
   "outputs": [
    {
     "output_type": "stream",
     "name": "stdout",
     "text": "start\n  full_countername\n    objectname\tthreads\n    full_instancename\n      instancename\n        countername\tlocality\n        index\t40\n        instancename\n          countername\tpool\n          index\tdefault\n          instancename\n            countername\tworker-thread\n            index\t2\n    countername\n      countername\tcount\n      cumulative\n  iteration\t3\n  timestamp\t7228.925801\n  timestamp_unit\t[s]\n  value\t1.46193e+06\n\n"
    }
   ],
   "source": [
    "print(l2.parse('/threads{locality#40/pool#default/worker-thread#2}/count/cumulative,3,7228.925801,[s],1.46193e+06').pretty())"
   ]
  },
  {
   "cell_type": "code",
   "execution_count": 10,
   "metadata": {},
   "outputs": [
    {
     "output_type": "stream",
     "name": "stdout",
     "text": "start\n  full_countername\n    objectname\tagas\n    full_instancename\n      instancename\n        countername\tlocality\n        index\t63\n        instancename\n          countername\ttotal\n    countername\n      countername\ttime\n      route\n  iteration\t3\n  timestamp\t7228.840714\n  timestamp_unit\t[s]\n  value\t5.09444e+06\n  value_unit\t[ns]\n\n"
    }
   ],
   "source": [
    "print(l2.parse('/agas{locality#63/total}/time/route,3,7228.840714,[s],5.09444e+06,[ns]').pretty())"
   ]
  }
 ]
}