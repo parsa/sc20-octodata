{
 "nbformat": 4,
 "nbformat_minor": 2,
 "metadata": {
  "language_info": {
   "name": "python",
   "codemirror_mode": {
    "name": "ipython",
    "version": 3
   },
   "version": "3.7.7-final"
  },
  "orig_nbformat": 2,
  "file_extension": ".py",
  "mimetype": "text/x-python",
  "name": "python",
  "npconvert_exporter": "python",
  "pygments_lexer": "ipython3",
  "version": 3,
  "kernelspec": {
   "name": "python37764bit54b629de4ec7432ea8f490cfc7e2cda2",
   "display_name": "Python 3.7.7 64-bit"
  }
 },
 "cells": [
  {
   "cell_type": "markdown",
   "metadata": {},
   "source": [
    "Input: Octo-Tiger HPX output, including Performance counter values\n",
    "\n",
    "Output: CSV\n",
    "```csv\n",
    "iteration,locality,subgrids,amr_bound,subgrid_leaves,idle_rate_0,idle_rate_1,...,idle_rate_19\n",
    "```"
   ]
  },
  {
   "cell_type": "code",
   "execution_count": 1,
   "metadata": {},
   "outputs": [],
   "source": [
    "import os\n",
    "import glob\n",
    "import re\n",
    "import pandas as pd"
   ]
  },
  {
   "cell_type": "code",
   "execution_count": 2,
   "metadata": {},
   "outputs": [],
   "source": [
    "def get_pfx_counter_line_pattern():\n",
    "    return re.compile(\n",
    "        r'^/[^{]+\\{[^}]+\\}/([^,]+,){4,5}[^,\\n]+$', re.MULTILINE)\n",
    "\n",
    "\n",
    "def test_pfx_counter_line_pattern(pattern):\n",
    "    def test_case(subject):\n",
    "        return [i.group() for i in pattern.finditer(subject)]\n",
    "\n",
    "    subject = '''\n",
    "/octotiger{locality#0/total}/subgrid_leaves,2,3602.438779,[s],32428\n",
    "/octotiger{locality#1/total}/subgrid_leaves,2,3602.428582,[s],34118\n",
    "/octotiger{locality#2/total}/subgrid_leaves,2,3602.430246,[s],33918\n",
    "/octotiger{locality#3/total}/subgrid_leaves,2,3602.431576,[s],34443\n",
    "/octotiger{locality#4/total}/subgrid_leaves,2,3602.436175,[s],33173\n",
    "/threads{locality#59/total/total}/count/cumulative,44,154828.198473,[s],2.3065e+09\n",
    "/threads{locality#60/total/total}/count/cumulative,44,154828.221342,[s],2.24724e+09\n",
    "/threads{locality#61/total/total}/count/cumulative,44,154828.184221,[s],2.28135e+09\n",
    "/threads{locality#62/total/total}/count/cumulative,44,154828.221351,[s],2.20491e+09\n",
    "/threads{locality#63/total/total}/count/cumulative,44,154828.216028,[s],2.05324e+09\n",
    "/threads{locality#0/pool#default/worker-thread#0}/count/cumulative,44,154828.257432,[s],1.14378e+08\n",
    "/threads{locality#0/pool#default/worker-thread#1}/count/cumulative,44,154828.260203,[s],1.05219e+08\n",
    "/threads{locality#0/pool#default/worker-thread#2}/count/cumulative,44,154828.262954,[s],1.04616e+08\n",
    "/threads{locality#0/pool#default/worker-thread#3}/count/cumulative,44,154828.262962,[s],1.04786e+08\n",
    "    '''\n",
    "    expected = [\n",
    "        '/octotiger{locality#0/total}/subgrid_leaves,2,3602.438779,[s],32428',\n",
    "        '/octotiger{locality#1/total}/subgrid_leaves,2,3602.428582,[s],34118',\n",
    "        '/octotiger{locality#2/total}/subgrid_leaves,2,3602.430246,[s],33918',\n",
    "        '/octotiger{locality#3/total}/subgrid_leaves,2,3602.431576,[s],34443',\n",
    "        '/octotiger{locality#4/total}/subgrid_leaves,2,3602.436175,[s],33173',\n",
    "        '/threads{locality#59/total/total}/count/cumulative,44,154828.198473,[s],2.3065e+09',\n",
    "        '/threads{locality#60/total/total}/count/cumulative,44,154828.221342,[s],2.24724e+09',\n",
    "        '/threads{locality#61/total/total}/count/cumulative,44,154828.184221,[s],2.28135e+09',\n",
    "        '/threads{locality#62/total/total}/count/cumulative,44,154828.221351,[s],2.20491e+09',\n",
    "        '/threads{locality#63/total/total}/count/cumulative,44,154828.216028,[s],2.05324e+09',\n",
    "        '/threads{locality#0/pool#default/worker-thread#0}/count/cumulative,44,154828.257432,[s],1.14378e+08',\n",
    "        '/threads{locality#0/pool#default/worker-thread#1}/count/cumulative,44,154828.260203,[s],1.05219e+08',\n",
    "        '/threads{locality#0/pool#default/worker-thread#2}/count/cumulative,44,154828.262954,[s],1.04616e+08',\n",
    "        '/threads{locality#0/pool#default/worker-thread#3}/count/cumulative,44,154828.262962,[s],1.04786e+08'\n",
    "    ]\n",
    "\n",
    "    assert test_case(subject) == expected\n",
    "\n",
    "# Counter line search and counter name parsing regex patterns\n",
    "pfx_counter_line_pattern = get_pfx_counter_line_pattern()\n",
    "test_pfx_counter_line_pattern(pfx_counter_line_pattern)"
   ]
  },
  {
   "cell_type": "code",
   "execution_count": 3,
   "metadata": {},
   "outputs": [],
   "source": [
    "def get_general_counter_form_pattern():\n",
    "    return re.compile(\n",
    "        r'/(?P<object>[^{]+)\\{locality#(?P<locality>\\d+)/(?:(?:(?P<instance1>pool#[^/]+/[^#]+)#(?P<thread_id>\\d+))|(?P<instance2>[^}]+))\\}/(?P<counter>[^@]+)(?:@(?P<params>.+))?')\n",
    "\n",
    "\n",
    "def test_general_counter_form_pattern(pattern):\n",
    "    def test_case(subject):\n",
    "        m = pattern.match(subject)\n",
    "        assert m is not None\n",
    "        return m.groupdict()\n",
    "\n",
    "    assert test_case('/threads{locality#0/pool#default/worker-thread#0}/count/cumulative') == {\n",
    "        'object': 'threads',\n",
    "        'locality': '0',\n",
    "        'instance1': 'pool#default/worker-thread',\n",
    "        'thread_id': '0',\n",
    "        'instance2': None,\n",
    "        'counter': 'count/cumulative',\n",
    "        'params': None}\n",
    "    assert test_case('/threads{locality#61/total/total}/count/cumulative,44,154828.184221,[s],2.28135e+09') == {\n",
    "        'object': 'threads',\n",
    "        'locality': '61',\n",
    "        'instance1': None,\n",
    "        'thread_id': None,\n",
    "        'instance2': 'total/total',\n",
    "        'counter': 'count/cumulative,44,154828.184221,[s],2.28135e+09',\n",
    "        'params': None}\n",
    "\n",
    "general_counter_form_pattern = get_general_counter_form_pattern()\n",
    "test_general_counter_form_pattern(general_counter_form_pattern)"
   ]
  },
  {
   "cell_type": "code",
   "execution_count": 4,
   "metadata": {},
   "outputs": [],
   "source": [
    "hpx_output_files = glob.glob('*.txt')\n",
    "assert isinstance(hpx_output_files, list)\n",
    "assert len(hpx_output_files) >= 1"
   ]
  },
  {
   "cell_type": "markdown",
   "metadata": {},
   "source": [
    "#### Read files"
   ]
  },
  {
   "cell_type": "code",
   "execution_count": 5,
   "metadata": {},
   "outputs": [],
   "source": [
    "def read_file(filepath):\n",
    "    assert os.access(filepath, os.R_OK)\n",
    "\n",
    "    # Read one file for testing\n",
    "    with open(filepath, 'r') as hpx_output_handle:\n",
    "        hpx_output = hpx_output_handle.read()\n",
    "    return hpx_output"
   ]
  },
  {
   "cell_type": "markdown",
   "metadata": {},
   "source": [
    "\n",
    "#### Read one file for testing"
   ]
  },
  {
   "cell_type": "code",
   "execution_count": 6,
   "metadata": {},
   "outputs": [
    {
     "output_type": "stream",
     "name": "stdout",
     "text": "subject: ./64_3.txt\n"
    }
   ],
   "source": [
    "r0f = os.path.join(os.curdir, hpx_output_files[0])\n",
    "print('subject:', r0f)"
   ]
  },
  {
   "cell_type": "code",
   "execution_count": 7,
   "metadata": {},
   "outputs": [],
   "source": [
    "hpx_output = read_file(r0f)"
   ]
  },
  {
   "cell_type": "code",
   "execution_count": 8,
   "metadata": {},
   "outputs": [],
   "source": [
    "def extract_counters_df(hpx_output):\n",
    "    assert isinstance(hpx_output, str)\n",
    "\n",
    "    all_counters = []\n",
    "    for pfx_counter_line in pfx_counter_line_pattern.finditer(hpx_output):\n",
    "        raw_line = pfx_counter_line.group(0)\n",
    "        line_split = raw_line.split(',')\n",
    "\n",
    "        def justify_fields(line_split):\n",
    "            if len(line_split) == 5:\n",
    "                # unit for count values\n",
    "                line_split += ('1')\n",
    "            assert len(line_split) == 6\n",
    "        justify_fields(line_split)\n",
    "\n",
    "        raw_general_name = line_split[0]\n",
    "        split_general_form = general_counter_form_pattern.match(\n",
    "            raw_general_name)\n",
    "        assert split_general_form is not None\n",
    "\n",
    "        countername_groups = split_general_form.groupdict()\n",
    "\n",
    "        def unify_instance_field(countername_groups):\n",
    "            if countername_groups['instance1'] is not None:\n",
    "                countername_groups['instance'] = countername_groups['instance1']\n",
    "            else:\n",
    "                countername_groups['instance'] = countername_groups['instance2']\n",
    "\n",
    "            del countername_groups['instance1']\n",
    "            del countername_groups['instance2']\n",
    "        unify_instance_field(countername_groups)\n",
    "\n",
    "        all_counters += [(\n",
    "            countername_groups[\"object\"],\n",
    "            countername_groups[\"locality\"],\n",
    "            countername_groups[\"instance\"],\n",
    "            countername_groups[\"counter\"],\n",
    "            countername_groups[\"thread_id\"],\n",
    "            countername_groups[\"params\"],\n",
    "        ) + tuple(line_split)]\n",
    "\n",
    "    df = pd.DataFrame(all_counters, columns=[\n",
    "        'objectname', 'locality', 'instance', 'countername', 'thread_id',\n",
    "        'parameters', 'general_form', 'iteration', 'timestamp',\n",
    "        'timestamp_unit', 'value', 'unit'])\n",
    "    assert isinstance(df, pd.DataFrame)\n",
    "    assert len(df) != 0\n",
    "    return df"
   ]
  },
  {
   "cell_type": "code",
   "execution_count": 9,
   "metadata": {},
   "outputs": [
    {
     "output_type": "stream",
     "name": "stdout",
     "text": "CPU times: user 2.11 s, sys: 112 ms, total: 2.22 s\nWall time: 2.23 s\n"
    }
   ],
   "source": [
    "%%time\n",
    "df = extract_counters_df(hpx_output)"
   ]
  },
  {
   "cell_type": "code",
   "execution_count": 10,
   "metadata": {},
   "outputs": [],
   "source": [
    "def check_and_prune_fields(df):\n",
    "    assert isinstance(df, pd.DataFrame)\n",
    "\n",
    "    def fix_units(df):\n",
    "        df.locality = pd.to_numeric(df.locality, downcast='unsigned')\n",
    "        df.iteration = pd.to_numeric(df.iteration, downcast='unsigned')\n",
    "        df.timestamp = pd.to_numeric(df.timestamp)\n",
    "        df.value = pd.to_numeric(df.value)\n",
    "        df.thread_id = pd.to_numeric(df.thread_id, downcast='unsigned')\n",
    "        df.loc[df.countername == 'idle-rate', 'value'] *= 0.01\n",
    "    fix_units(df)\n",
    "\n",
    "    def drop_irrelevant_counters(df):\n",
    "        # drop AGAS results\n",
    "        df = df.loc[df.objectname != 'agas']\n",
    "        # drop threads...pool#default/worker-thread...count/cumulative-phases\n",
    "        df = df.loc[df.countername != 'count/cumulative-phases']\n",
    "        df = df.loc[df.countername != 'count/cumulative']\n",
    "        return df\n",
    "    df = drop_irrelevant_counters(df)\n",
    "\n",
    "    # units can only be [0.01%], 1, [s], and [ns]\n",
    "    def check_all_data_units(df):\n",
    "        x = df.loc[(df.unit != '1')]\n",
    "        x = x.loc[x.unit != '[0.01%]']\n",
    "        x = x.loc[x.unit != '[s]']\n",
    "        x = x.loc[x.unit != '[ns]']\n",
    "        assert len(x) == 0\n",
    "\n",
    "    check_all_data_units(df)\n",
    "\n",
    "    def remove_unused_columns(df):\n",
    "        # no parameters are expected\n",
    "        assert len(df.loc[~df.parameters.isnull()]) == 0\n",
    "        del df['parameters']\n",
    "\n",
    "        del df['timestamp_unit']\n",
    "        del df['unit']\n",
    "        del df['timestamp']\n",
    "        del df['general_form']\n",
    "    remove_unused_columns(df)\n",
    "    return df"
   ]
  },
  {
   "cell_type": "code",
   "execution_count": 11,
   "metadata": {},
   "outputs": [],
   "source": [
    "df = check_and_prune_fields(df)"
   ]
  },
  {
   "cell_type": "code",
   "execution_count": 12,
   "metadata": {},
   "outputs": [],
   "source": [
    "def process_df(df):\n",
    "    def get_octotiger_counters(df):\n",
    "        octo_pivot = df.pivot_table(\n",
    "            index=[\n",
    "                'iteration',\n",
    "                'locality'],\n",
    "            columns=['countername'],\n",
    "            values='value',\n",
    "            dropna=False)\n",
    "        del octo_pivot['idle-rate']\n",
    "        return octo_pivot\n",
    "    octotiger_counters = get_octotiger_counters(df)\n",
    "\n",
    "    def get_idle_rate_counters(df):\n",
    "        idle_rate_pivot = df.pivot_table(\n",
    "            index=[\n",
    "                'iteration',\n",
    "                'locality'],\n",
    "            columns=['thread_id'],\n",
    "            values='value')\n",
    "        return idle_rate_pivot\n",
    "    idle_rates = get_idle_rate_counters(df)\n",
    "\n",
    "    result = pd.concat([octotiger_counters, idle_rates], axis=1)\n",
    "    return result"
   ]
  },
  {
   "cell_type": "code",
   "execution_count": 13,
   "metadata": {},
   "outputs": [],
   "source": [
    "df = process_df(df)"
   ]
  },
  {
   "cell_type": "code",
   "execution_count": 14,
   "metadata": {},
   "outputs": [
    {
     "output_type": "execute_result",
     "data": {
      "text/plain": "                    amr_bounds  subgrid_leaves  subgrids    0.0    1.0    2.0  \\\niteration locality                                                              \n1         0                0.0             0.0       0.0  97.43  97.91  97.97   \n          1                0.0             0.0       0.0  99.95  99.97  99.95   \n          2                0.0             0.0       0.0  99.94  99.97  99.94   \n          3                0.0             0.0       0.0  99.94  99.94  99.95   \n          4                0.0             0.0       0.0  99.96  99.80  99.97   \n...                        ...             ...       ...    ...    ...    ...   \n44        59           23920.0          6028.0   15481.0  99.99  99.99  99.99   \n          60           63612.0         15037.0   25087.0  99.99  99.99  99.99   \n          61           11652.0         60117.0   18646.0  99.99  99.99  99.99   \n          62           30880.0         18753.0   21916.0  99.99  99.99  99.99   \n          63           15616.0         37049.0    9216.0  99.99  99.99  99.99   \n\n                      3.0    4.0    5.0    6.0  ...   10.0   11.0   12.0  \\\niteration locality                              ...                        \n1         0         98.00  98.04  97.95  98.00  ...  96.85  99.13  99.07   \n          1         99.97  99.98  99.91  99.97  ...  99.82  99.97  99.99   \n          2         99.90  99.97  99.97  99.97  ...  99.98  99.97  99.98   \n          3         99.97  99.96  99.97  99.97  ...  99.98  99.98  99.98   \n          4         99.97  99.97  99.90  99.98  ...  99.97  99.97  99.98   \n...                   ...    ...    ...    ...  ...    ...    ...    ...   \n44        59        99.99  99.99  99.99  99.99  ...  99.99  99.99  99.99   \n          60        99.99  99.99  99.99  99.99  ...  99.99  99.99  99.99   \n          61        99.99  99.99  99.99  99.99  ...  99.99  99.99  99.99   \n          62        99.99  99.99  99.99  99.99  ...  99.99  99.99  99.99   \n          63        99.99  99.99  99.99  99.99  ...  99.99  99.99  99.99   \n\n                     13.0   14.0   15.0   16.0   17.0   18.0   19.0  \niteration locality                                                   \n1         0         99.09  99.17  99.05  99.13  99.06  99.13  99.08  \n          1         99.98  99.98  99.98  99.96  99.97  99.99  99.97  \n          2         99.97  99.97  99.98  99.96  99.98  99.98  99.97  \n          3         99.98  99.98  99.97  99.97  99.97  99.98  99.98  \n          4         99.97  99.97  99.97  99.98  99.98  99.98  99.97  \n...                   ...    ...    ...    ...    ...    ...    ...  \n44        59        99.99  99.99  99.99  99.99  99.99  99.99  99.99  \n          60        99.99  99.99  99.99  99.99  99.99  99.99  99.99  \n          61        99.99  99.99  99.99  99.99  99.99  99.99  99.99  \n          62        99.99  99.99  99.99  99.99  99.99  99.99  99.99  \n          63        99.99  99.99  99.99  99.99  99.99  99.99  99.99  \n\n[2816 rows x 23 columns]",
      "text/html": "<div>\n<style scoped>\n    .dataframe tbody tr th:only-of-type {\n        vertical-align: middle;\n    }\n\n    .dataframe tbody tr th {\n        vertical-align: top;\n    }\n\n    .dataframe thead th {\n        text-align: right;\n    }\n</style>\n<table border=\"1\" class=\"dataframe\">\n  <thead>\n    <tr style=\"text-align: right;\">\n      <th></th>\n      <th></th>\n      <th>amr_bounds</th>\n      <th>subgrid_leaves</th>\n      <th>subgrids</th>\n      <th>0.0</th>\n      <th>1.0</th>\n      <th>2.0</th>\n      <th>3.0</th>\n      <th>4.0</th>\n      <th>5.0</th>\n      <th>6.0</th>\n      <th>...</th>\n      <th>10.0</th>\n      <th>11.0</th>\n      <th>12.0</th>\n      <th>13.0</th>\n      <th>14.0</th>\n      <th>15.0</th>\n      <th>16.0</th>\n      <th>17.0</th>\n      <th>18.0</th>\n      <th>19.0</th>\n    </tr>\n    <tr>\n      <th>iteration</th>\n      <th>locality</th>\n      <th></th>\n      <th></th>\n      <th></th>\n      <th></th>\n      <th></th>\n      <th></th>\n      <th></th>\n      <th></th>\n      <th></th>\n      <th></th>\n      <th></th>\n      <th></th>\n      <th></th>\n      <th></th>\n      <th></th>\n      <th></th>\n      <th></th>\n      <th></th>\n      <th></th>\n      <th></th>\n      <th></th>\n    </tr>\n  </thead>\n  <tbody>\n    <tr>\n      <th rowspan=\"5\" valign=\"top\">1</th>\n      <th>0</th>\n      <td>0.0</td>\n      <td>0.0</td>\n      <td>0.0</td>\n      <td>97.43</td>\n      <td>97.91</td>\n      <td>97.97</td>\n      <td>98.00</td>\n      <td>98.04</td>\n      <td>97.95</td>\n      <td>98.00</td>\n      <td>...</td>\n      <td>96.85</td>\n      <td>99.13</td>\n      <td>99.07</td>\n      <td>99.09</td>\n      <td>99.17</td>\n      <td>99.05</td>\n      <td>99.13</td>\n      <td>99.06</td>\n      <td>99.13</td>\n      <td>99.08</td>\n    </tr>\n    <tr>\n      <th>1</th>\n      <td>0.0</td>\n      <td>0.0</td>\n      <td>0.0</td>\n      <td>99.95</td>\n      <td>99.97</td>\n      <td>99.95</td>\n      <td>99.97</td>\n      <td>99.98</td>\n      <td>99.91</td>\n      <td>99.97</td>\n      <td>...</td>\n      <td>99.82</td>\n      <td>99.97</td>\n      <td>99.99</td>\n      <td>99.98</td>\n      <td>99.98</td>\n      <td>99.98</td>\n      <td>99.96</td>\n      <td>99.97</td>\n      <td>99.99</td>\n      <td>99.97</td>\n    </tr>\n    <tr>\n      <th>2</th>\n      <td>0.0</td>\n      <td>0.0</td>\n      <td>0.0</td>\n      <td>99.94</td>\n      <td>99.97</td>\n      <td>99.94</td>\n      <td>99.90</td>\n      <td>99.97</td>\n      <td>99.97</td>\n      <td>99.97</td>\n      <td>...</td>\n      <td>99.98</td>\n      <td>99.97</td>\n      <td>99.98</td>\n      <td>99.97</td>\n      <td>99.97</td>\n      <td>99.98</td>\n      <td>99.96</td>\n      <td>99.98</td>\n      <td>99.98</td>\n      <td>99.97</td>\n    </tr>\n    <tr>\n      <th>3</th>\n      <td>0.0</td>\n      <td>0.0</td>\n      <td>0.0</td>\n      <td>99.94</td>\n      <td>99.94</td>\n      <td>99.95</td>\n      <td>99.97</td>\n      <td>99.96</td>\n      <td>99.97</td>\n      <td>99.97</td>\n      <td>...</td>\n      <td>99.98</td>\n      <td>99.98</td>\n      <td>99.98</td>\n      <td>99.98</td>\n      <td>99.98</td>\n      <td>99.97</td>\n      <td>99.97</td>\n      <td>99.97</td>\n      <td>99.98</td>\n      <td>99.98</td>\n    </tr>\n    <tr>\n      <th>4</th>\n      <td>0.0</td>\n      <td>0.0</td>\n      <td>0.0</td>\n      <td>99.96</td>\n      <td>99.80</td>\n      <td>99.97</td>\n      <td>99.97</td>\n      <td>99.97</td>\n      <td>99.90</td>\n      <td>99.98</td>\n      <td>...</td>\n      <td>99.97</td>\n      <td>99.97</td>\n      <td>99.98</td>\n      <td>99.97</td>\n      <td>99.97</td>\n      <td>99.97</td>\n      <td>99.98</td>\n      <td>99.98</td>\n      <td>99.98</td>\n      <td>99.97</td>\n    </tr>\n    <tr>\n      <th>...</th>\n      <th>...</th>\n      <td>...</td>\n      <td>...</td>\n      <td>...</td>\n      <td>...</td>\n      <td>...</td>\n      <td>...</td>\n      <td>...</td>\n      <td>...</td>\n      <td>...</td>\n      <td>...</td>\n      <td>...</td>\n      <td>...</td>\n      <td>...</td>\n      <td>...</td>\n      <td>...</td>\n      <td>...</td>\n      <td>...</td>\n      <td>...</td>\n      <td>...</td>\n      <td>...</td>\n      <td>...</td>\n    </tr>\n    <tr>\n      <th rowspan=\"5\" valign=\"top\">44</th>\n      <th>59</th>\n      <td>23920.0</td>\n      <td>6028.0</td>\n      <td>15481.0</td>\n      <td>99.99</td>\n      <td>99.99</td>\n      <td>99.99</td>\n      <td>99.99</td>\n      <td>99.99</td>\n      <td>99.99</td>\n      <td>99.99</td>\n      <td>...</td>\n      <td>99.99</td>\n      <td>99.99</td>\n      <td>99.99</td>\n      <td>99.99</td>\n      <td>99.99</td>\n      <td>99.99</td>\n      <td>99.99</td>\n      <td>99.99</td>\n      <td>99.99</td>\n      <td>99.99</td>\n    </tr>\n    <tr>\n      <th>60</th>\n      <td>63612.0</td>\n      <td>15037.0</td>\n      <td>25087.0</td>\n      <td>99.99</td>\n      <td>99.99</td>\n      <td>99.99</td>\n      <td>99.99</td>\n      <td>99.99</td>\n      <td>99.99</td>\n      <td>99.99</td>\n      <td>...</td>\n      <td>99.99</td>\n      <td>99.99</td>\n      <td>99.99</td>\n      <td>99.99</td>\n      <td>99.99</td>\n      <td>99.99</td>\n      <td>99.99</td>\n      <td>99.99</td>\n      <td>99.99</td>\n      <td>99.99</td>\n    </tr>\n    <tr>\n      <th>61</th>\n      <td>11652.0</td>\n      <td>60117.0</td>\n      <td>18646.0</td>\n      <td>99.99</td>\n      <td>99.99</td>\n      <td>99.99</td>\n      <td>99.99</td>\n      <td>99.99</td>\n      <td>99.99</td>\n      <td>99.99</td>\n      <td>...</td>\n      <td>99.99</td>\n      <td>99.99</td>\n      <td>99.99</td>\n      <td>99.99</td>\n      <td>99.99</td>\n      <td>99.99</td>\n      <td>99.99</td>\n      <td>99.99</td>\n      <td>99.99</td>\n      <td>99.99</td>\n    </tr>\n    <tr>\n      <th>62</th>\n      <td>30880.0</td>\n      <td>18753.0</td>\n      <td>21916.0</td>\n      <td>99.99</td>\n      <td>99.99</td>\n      <td>99.99</td>\n      <td>99.99</td>\n      <td>99.99</td>\n      <td>99.99</td>\n      <td>99.99</td>\n      <td>...</td>\n      <td>99.99</td>\n      <td>99.99</td>\n      <td>99.99</td>\n      <td>99.99</td>\n      <td>99.99</td>\n      <td>99.99</td>\n      <td>99.99</td>\n      <td>99.99</td>\n      <td>99.99</td>\n      <td>99.99</td>\n    </tr>\n    <tr>\n      <th>63</th>\n      <td>15616.0</td>\n      <td>37049.0</td>\n      <td>9216.0</td>\n      <td>99.99</td>\n      <td>99.99</td>\n      <td>99.99</td>\n      <td>99.99</td>\n      <td>99.99</td>\n      <td>99.99</td>\n      <td>99.99</td>\n      <td>...</td>\n      <td>99.99</td>\n      <td>99.99</td>\n      <td>99.99</td>\n      <td>99.99</td>\n      <td>99.99</td>\n      <td>99.99</td>\n      <td>99.99</td>\n      <td>99.99</td>\n      <td>99.99</td>\n      <td>99.99</td>\n    </tr>\n  </tbody>\n</table>\n<p>2816 rows × 23 columns</p>\n</div>"
     },
     "metadata": {},
     "execution_count": 14
    }
   ],
   "source": [
    "df"
   ]
  },
  {
   "cell_type": "code",
   "execution_count": null,
   "metadata": {},
   "outputs": [],
   "source": [
    "def get_csv_output_path(original_path):\n",
    "    return os.path.splitext(original_path)[0] + '.csv'\n",
    "of = get_csv_output_path(rf)"
   ]
  },
  {
   "cell_type": "code",
   "execution_count": 17,
   "metadata": {},
   "outputs": [],
   "source": [
    "df.to_csv('test.csv')"
   ]
  }
 ]
}