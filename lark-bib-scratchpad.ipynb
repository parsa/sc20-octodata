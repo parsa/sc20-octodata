{
 "nbformat": 4,
 "nbformat_minor": 2,
 "metadata": {
  "language_info": {
   "name": "python",
   "codemirror_mode": {
    "name": "ipython",
    "version": 3
   },
   "version": "3.7.7-final"
  },
  "orig_nbformat": 2,
  "file_extension": ".py",
  "mimetype": "text/x-python",
  "name": "python",
  "npconvert_exporter": "python",
  "pygments_lexer": "ipython3",
  "version": 3,
  "kernelspec": {
   "name": "python37764bit54b629de4ec7432ea8f490cfc7e2cda2",
   "display_name": "Python 3.7.7 64-bit"
  }
 },
 "cells": [
  {
   "cell_type": "code",
   "execution_count": 1,
   "metadata": {},
   "outputs": [],
   "source": [
    "from lark import Lark"
   ]
  },
  {
   "cell_type": "code",
   "execution_count": 2,
   "metadata": {},
   "outputs": [],
   "source": [
    "subject = '''\n",
    "@article{laurillard2009pedagogical,\n",
    "  Author = {Laurillard, Diana},\n",
    "  Date-Added = {2013-01-18 20:15:33 +0000},\n",
    "  Date-Modified = {2013-01-18 20:15:33 +0000},\n",
    "  Doi = {10.1007/s11412-008-9056-2},\n",
    "  Journal = {International Journal of Computer-Supported Collaborative Learning},\n",
    "  Month = {mar},\n",
    "  Number = {1},\n",
    "  Pages = {5-20},\n",
    "  Publisher = {Springer-Verlag},\n",
    "  Title = {The pedagogical challenges to collaborative technologies},\n",
    "  Url = {http://dx.doi.org/10.1007/s11412-008-9056-2},\n",
    "  Volume = {4},\n",
    "  Year = {2009},\n",
    "  Bdsk-Url-1 = {http://dx.doi.org/10.1007/s11412-008-9056-2}}'''"
   ]
  },
  {
   "cell_type": "code",
   "execution_count": 3,
   "metadata": {},
   "outputs": [],
   "source": [
    "l = Lark(r'''\n",
    "start                : bibfile\n",
    "bibfile              : entry_or_junk+\n",
    "entry_or_junk        : (tb object) | (tb JUNK)\n",
    "object               : entry | macro | preamble | comment_entry\n",
    "entry                : \"@\" entry_type tb  ( \"{\" tb contents tb \"}\" ) | ( \"(\" tb contents tb \")\" )\n",
    "macro                : \"@string\" tb  ( \"{\" tb macro_contents tb \"}\" ) | ( \"(\" tb macro_contents tb \")\" )\n",
    "preamble             : \"@\" entry_type tb  ( \"{\" tb preamble_contents tb \"}\" ) | ( \"(\" tb preamble_contents tb \")\" )\n",
    "comment_entry        : \"@\" entry_type tb string\n",
    "contents             : citekey tb \",\" tb fields\n",
    "macro_contents       : field\n",
    "preamble_contents    : value\n",
    "entry_type           : ALPHA_NAME\n",
    "citekey              : number | NAME\n",
    "fields               : (field_comma | field)+\n",
    "field_comma          : field tb \",\" tb\n",
    "field                : NAME tb \"=\" tb value\n",
    "value                : simple_value  | (simple_value (tb \"#\" tb simple_value)+)\n",
    "simple_value         : string | number | NAME\n",
    "number               : /[0-9]+/ | (/[0-9]+/ tb /[-]+/ tb /[0-9]+/)\n",
    "string               : (\"\\\"\" quotes_string? \"\\\"\") | (\"{\" braces_string? \"}\")\n",
    "braces_string        : (/[^{}@]+/ | string)+\n",
    "quotes_string        : (/[^\\\"]+/ | (\"{\" braces_string \"}\"))+\n",
    "tb                   : (COMMENT | WS)*\n",
    "\n",
    "ALPHA_NAME           : /[a-zA-Z]+/\n",
    "NAME                 : /[^a-z_A-Z!$&+.\\/:;<>?^`|'][^a-z_A-Z0-9!$&+.\\/:;<>?^`|']*/\n",
    "WS                   : /[ \\t\\n\\r]/\n",
    "JUNK                 : /[^ \\t\\r\\n]+/\n",
    "COMMENT              : /%[^\\n]*/ \"\\n\"\n",
    "''')"
   ]
  },
  {
   "cell_type": "code",
   "execution_count": 4,
   "metadata": {},
   "outputs": [],
   "source": [
    "l = Lark(r'''\n",
    "start                : bibfile\n",
    "bibfile              : entry_or_junk+\n",
    "entry_or_junk        : (tb object) | (tb JUNK)\n",
    "object               : entry | macro | preamble | comment_entry\n",
    "entry                : \"@\" entry_type tb  \"{\" tb contents tb \"}\"\n",
    "macro                : \"@string\" tb  ( \"{\" tb macro_contents tb \"}\" ) | ( \"(\" tb macro_contents tb \")\" )\n",
    "preamble             : \"@\" entry_type tb  ( \"{\" tb preamble_contents tb \"}\" ) | ( \"(\" tb preamble_contents tb \")\" )\n",
    "comment_entry        : \"@\" entry_type tb string\n",
    "contents             : citekey tb \",\" tb fields\n",
    "macro_contents       : field\n",
    "preamble_contents    : value\n",
    "entry_type           : ALPHA_NAME\n",
    "citekey              : number | NAME\n",
    "fields               : (field_comma | field)+\n",
    "field_comma          : field tb \",\" tb\n",
    "field                : NAME tb \"=\" tb value\n",
    "value                : simple_value  | (simple_value (tb \"#\" tb simple_value)+)\n",
    "simple_value         : string | number | NAME\n",
    "number               : /[0-9]+/ | (/[0-9]+/ tb /[-]+/ tb /[0-9]+/)\n",
    "string               : (\"\\\"\" quotes_string? \"\\\"\") | (\"{\" braces_string? \"}\")\n",
    "braces_string        : (/[^{}@]+/ | string)+\n",
    "quotes_string        : (/[^\\\"]+/ | (\"{\" braces_string \"}\"))+\n",
    "tb                   : (COMMENT | WS)*\n",
    "\n",
    "ALPHA_NAME           : /[a-zA-Z]+/\n",
    "NAME                 : /[^a-z_A-Z!$&+.\\/:;<>?^`|'][^a-z_A-Z0-9!$&+.\\/:;<>?^`|']*/\n",
    "WS                   : /[ \\t\\n\\r]/\n",
    "JUNK                 : /[^ \\t\\r\\n]+/\n",
    "COMMENT              : /%[^\\n]*/ \"\\n\"\n",
    "''')"
   ]
  },
  {
   "cell_type": "code",
   "execution_count": 7,
   "metadata": {},
   "outputs": [
    {
     "output_type": "stream",
     "name": "stdout",
     "text": "start\n  bibfile\n    entry_or_junk\n      tb\n      object\n        preamble\n          entry_type\tPREAMBLE\n          tb\n          tb\n            \n\n             \n             \n          preamble_contents\n            value\n              simple_value\n                string\n                  quotes_string\t\newcommand{\noopsort}[1]{} \n              tb\n                \n\n                 \n                 \n              tb\t \n              simple_value\n                string\n                  quotes_string\t\newcommand{\\singleletter}[1]{#1} \n          tb\n             \n            \n\n    entry_or_junk\n      tb\n        \n\n        \n\n      object\n        comment_entry\n          entry_type\tstring\n          tb\t \n          string\n            braces_string\t \n  me = \"Bart Kiers\" \n\n    entry_or_junk\n      tb\n        \n\n        \n\n      object\n        comment_entry\n          entry_type\tComMENt\n          tb\n          string\n            braces_string\tsome comments here\n    entry_or_junk\n      tb\n        \n\n        \n\n      %\n    entry_or_junk\n      tb\t \n      or\n    entry_or_junk\n      tb\t \n      some\n    entry_or_junk\n      tb\t \n      comments\n    entry_or_junk\n      tb\t \n      here\n    entry_or_junk\n      tb\n        \n\n        \n\n      @article{mrx05,\n    entry_or_junk\n      tb\n        \n\n         \n         \n      auTHor\n    entry_or_junk\n      tb\t \n      =\n    entry_or_junk\n      tb\t \n      me\n    entry_or_junk\n      tb\t \n      #\n    entry_or_junk\n      tb\t \n      \"Mr.\n    entry_or_junk\n      tb\t \n      X\",\n    entry_or_junk\n      tb\n        \n\n         \n         \n      Title\n    entry_or_junk\n      tb\t \n      =\n    entry_or_junk\n      tb\t \n      {Something\n    entry_or_junk\n      tb\t \n      Great},\n    entry_or_junk\n      tb\n         \n        \n\n         \n         \n      publisher\n    entry_or_junk\n      tb\t \n      =\n    entry_or_junk\n      tb\t \n      \"nob\"\n    entry_or_junk\n      tb\t \n      #\n    entry_or_junk\n      tb\t \n      \"ody\",\n    entry_or_junk\n      tb\n        \n\n         \n         \n      YEAR\n    entry_or_junk\n      tb\t \n      =\n    entry_or_junk\n      tb\t \n      2005,\n    entry_or_junk\n      tb\n        \n\n         \n         \n      x\n    entry_or_junk\n      tb\t \n      =\n    entry_or_junk\n      tb\t \n      {{Bib}\\TeX},\n    entry_or_junk\n      tb\n        \n\n         \n         \n      y\n    entry_or_junk\n      tb\t \n      =\n    entry_or_junk\n      tb\t \n      \"{Bib}\\TeX\",\n    entry_or_junk\n      tb\n        \n\n         \n         \n      z\n    entry_or_junk\n      tb\t \n      =\n    entry_or_junk\n      tb\t \n      \"{Bib}\"\n    entry_or_junk\n      tb\t \n      #\n    entry_or_junk\n      tb\t \n      \"\\TeX\",\n    entry_or_junk\n      tb\t\n\n      },\n    entry_or_junk\n      tb\n        \n\n        \n\n      object\n        comment_entry\n          entry_type\tmisc\n          tb\n          string\n            braces_string\t patashnik-bibtexing,\n       author = \"Oren Patashnik\",\n       title = \"BIBTEXing\",\n       year = \"1988\"\n\n    entry_or_junk\n      tb\n         \n        % no comma here\n\n        \n\n      object\n        comment_entry\n          entry_type\ttechreport\n          tb\n          string\n            braces_string\n              presstudy2002,\n    author      = \"Dr. Diessen, van R. J. and Drs. Steenbergen, J. F.\",\n    title       = \"Long \n              string\n                braces_string\tT\n              erm \n              string\n                braces_string\tP\n              reservation \n              string\n                braces_string\tS\n              tudy of the \n              string\n                braces_string\tDNEP\n               \n              string\n                braces_string\tP\n              roject\",\n    institution = \"IBM, National Library of the Netherlands\",\n    year        = \"2002\",\n    month       = \"December\",\n\n\n"
    }
   ],
   "source": [
    "subject2 = '''@PREAMBLE{\n",
    "  \"\\newcommand{\\noopsort}[1]{} \"\n",
    "  # \"\\newcommand{\\singleletter}[1]{#1} \" \n",
    "}\n",
    "\n",
    "@string { \n",
    "  me = \"Bart Kiers\" \n",
    "}\n",
    "\n",
    "@ComMENt{some comments here}\n",
    "\n",
    "% or some comments here\n",
    "\n",
    "@article{mrx05,\n",
    "  auTHor = me # \"Mr. X\",\n",
    "  Title = {Something Great}, \n",
    "  publisher = \"nob\" # \"ody\",\n",
    "  YEAR = 2005,\n",
    "  x = {{Bib}\\TeX},\n",
    "  y = \"{Bib}\\TeX\",\n",
    "  z = \"{Bib}\" # \"\\TeX\",\n",
    "},\n",
    "\n",
    "@misc{ patashnik-bibtexing,\n",
    "       author = \"Oren Patashnik\",\n",
    "       title = \"BIBTEXing\",\n",
    "       year = \"1988\"\n",
    "} % no comma here\n",
    "\n",
    "@techreport{presstudy2002,\n",
    "    author      = \"Dr. Diessen, van R. J. and Drs. Steenbergen, J. F.\",\n",
    "    title       = \"Long {T}erm {P}reservation {S}tudy of the {DNEP} {P}roject\",\n",
    "    institution = \"IBM, National Library of the Netherlands\",\n",
    "    year        = \"2002\",\n",
    "    month       = \"December\",\n",
    "}'''\n",
    "print(l.parse(subject2).pretty())"
   ]
  },
  {
   "cell_type": "code",
   "execution_count": 5,
   "metadata": {},
   "outputs": [
    {
     "output_type": "stream",
     "name": "stdout",
     "text": "start\n  bibfile\n    entry_or_junk\n      tb\t\n\n      object\n        comment_entry\n          entry_type\tarticle\n          tb\n          string\n            braces_string\n              laurillard2009pedagogical,\n  Author = \n              string\n                braces_string\tLaurillard, Diana\n              ,\n  Date-Added = \n              string\n                braces_string\t2013-01-18 20:15:33 +0000\n              ,\n  Date-Modified = \n              string\n                braces_string\t2013-01-18 20:15:33 +0000\n              ,\n  Doi = \n              string\n                braces_string\t10.1007/s11412-008-9056-2\n              ,\n  Journal = \n              string\n                braces_string\tInternational Journal of Computer-Supported Collaborative Learning\n              ,\n  Month = \n              string\n                braces_string\tmar\n              ,\n  Number = \n              string\n                braces_string\t1\n              ,\n  Pages = \n              string\n                braces_string\t5-20\n              ,\n  Publisher = \n              string\n                braces_string\tSpringer-Verlag\n              ,\n  Title = \n              string\n                braces_string\tThe pedagogical challenges to collaborative technologies\n              ,\n  Url = \n              string\n                braces_string\thttp://dx.doi.org/10.1007/s11412-008-9056-2\n              ,\n  Volume = \n              string\n                braces_string\t4\n              ,\n  Year = \n              string\n                braces_string\t2009\n              ,\n  Bdsk-Url-1 = \n              string\n                braces_string\thttp://dx.doi.org/10.1007/s11412-008-9056-2\n\n"
    }
   ],
   "source": [
    "print(l.parse(subject).pretty())\n",
    "#l.parse(subject)"
   ]
  }
 ]
}