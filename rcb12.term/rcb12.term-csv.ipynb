{
 "nbformat": 4,
 "nbformat_minor": 2,
 "metadata": {
  "language_info": {
   "name": "python",
   "codemirror_mode": {
    "name": "ipython",
    "version": 3
   },
   "version": "3.7.7-final"
  },
  "orig_nbformat": 2,
  "file_extension": ".py",
  "mimetype": "text/x-python",
  "name": "python",
  "npconvert_exporter": "python",
  "pygments_lexer": "ipython3",
  "version": 3,
  "kernelspec": {
   "name": "python37764bit54b629de4ec7432ea8f490cfc7e2cda2",
   "display_name": "Python 3.7.7 64-bit"
  }
 },
 "cells": [
  {
   "cell_type": "code",
   "execution_count": 1,
   "metadata": {},
   "outputs": [],
   "source": [
    "import os, glob\n",
    "import sys, re"
   ]
  },
  {
   "cell_type": "code",
   "execution_count": 2,
   "metadata": {},
   "outputs": [],
   "source": [
    "import pandas as pd"
   ]
  },
  {
   "cell_type": "code",
   "execution_count": 3,
   "metadata": {},
   "outputs": [],
   "source": [
    "run_files = glob.glob('*.txt')"
   ]
  },
  {
   "cell_type": "code",
   "execution_count": 4,
   "metadata": {},
   "outputs": [],
   "source": [
    "r0f = os.path.join(os.curdir, run_files[0])"
   ]
  },
  {
   "cell_type": "code",
   "execution_count": 5,
   "metadata": {},
   "outputs": [],
   "source": [
    "pfx_counter_line_pattern = re.compile('^/[^{]+\\{[^}]+\\}/([^,]+,){4,5}[^,\\n]+$', re.MULTILINE)\n",
    "general_counter_form_pattern = re.compile('/(?P<object>[^{]+)\\{locality#(?P<locality>\\d+)/(?:(?:(?P<instance1>pool#[^/]+/[^#]+)#(?P<thread_id>\\d+))|(?P<instance2>[^}]+))\\}/(?P<counter>[^@]+)(?:@(?P<params>.+))?')"
   ]
  },
  {
   "cell_type": "code",
   "execution_count": 6,
   "metadata": {},
   "outputs": [],
   "source": [
    "with open(r0f, 'r') as r0h:\n",
    "    r0c = r0h.read()"
   ]
  },
  {
   "cell_type": "code",
   "execution_count": 7,
   "metadata": {},
   "outputs": [
    {
     "output_type": "stream",
     "name": "stdout",
     "text": "/octotiger{locality#0/total}/subgrid_leaves,2,3602.438779,[s],32428\n/octotiger{locality#1/total}/subgrid_leaves,2,3602.428582,[s],34118\n/octotiger{locality#2/total}/subgrid_leaves,2,3602.430246,[s],33918\n/octotiger{locality#3/total}/subgrid_leaves,2,3602.431576,[s],34443\n/octotiger{locality#4/total}/subgrid_leaves,2,3602.436175,[s],33173\n/threads{locality#59/total/total}/count/cumulative,44,154828.198473,[s],2.3065e+09\n/threads{locality#60/total/total}/count/cumulative,44,154828.221342,[s],2.24724e+09\n/threads{locality#61/total/total}/count/cumulative,44,154828.184221,[s],2.28135e+09\n/threads{locality#62/total/total}/count/cumulative,44,154828.221351,[s],2.20491e+09\n/threads{locality#63/total/total}/count/cumulative,44,154828.216028,[s],2.05324e+09\n/threads{locality#0/pool#default/worker-thread#0}/count/cumulative,44,154828.257432,[s],1.14378e+08\n/threads{locality#0/pool#default/worker-thread#1}/count/cumulative,44,154828.260203,[s],1.05219e+08\n/threads{locality#0/pool#default/worker-thread#2}/count/cumulative,44,154828.262954,[s],1.04616e+08\n/threads{locality#0/pool#default/worker-thread#3}/count/cumulative,44,154828.262962,[s],1.04786e+08\n"
    }
   ],
   "source": [
    "# test\n",
    "def test_pfx_counter_line_pattern():\n",
    "    subject = '''\n",
    "/octotiger{locality#0/total}/subgrid_leaves,2,3602.438779,[s],32428\n",
    "/octotiger{locality#1/total}/subgrid_leaves,2,3602.428582,[s],34118\n",
    "/octotiger{locality#2/total}/subgrid_leaves,2,3602.430246,[s],33918\n",
    "/octotiger{locality#3/total}/subgrid_leaves,2,3602.431576,[s],34443\n",
    "/octotiger{locality#4/total}/subgrid_leaves,2,3602.436175,[s],33173\n",
    "/threads{locality#59/total/total}/count/cumulative,44,154828.198473,[s],2.3065e+09\n",
    "/threads{locality#60/total/total}/count/cumulative,44,154828.221342,[s],2.24724e+09\n",
    "/threads{locality#61/total/total}/count/cumulative,44,154828.184221,[s],2.28135e+09\n",
    "/threads{locality#62/total/total}/count/cumulative,44,154828.221351,[s],2.20491e+09\n",
    "/threads{locality#63/total/total}/count/cumulative,44,154828.216028,[s],2.05324e+09\n",
    "/threads{locality#0/pool#default/worker-thread#0}/count/cumulative,44,154828.257432,[s],1.14378e+08\n",
    "/threads{locality#0/pool#default/worker-thread#1}/count/cumulative,44,154828.260203,[s],1.05219e+08\n",
    "/threads{locality#0/pool#default/worker-thread#2}/count/cumulative,44,154828.262954,[s],1.04616e+08\n",
    "/threads{locality#0/pool#default/worker-thread#3}/count/cumulative,44,154828.262962,[s],1.04786e+08\n",
    "    '''\n",
    "    for i in pfx_counter_line_pattern.finditer(subject):\n",
    "        assert(i is not None)\n",
    "        print(i.group())\n",
    "test_pfx_counter_line_pattern()"
   ]
  },
  {
   "cell_type": "code",
   "execution_count": 8,
   "metadata": {},
   "outputs": [
    {
     "output_type": "stream",
     "name": "stdout",
     "text": "{'object': 'threads', 'locality': '0', 'instance1': 'pool#default/worker-thread', 'thread_id': '0', 'instance2': None, 'counter': 'count/cumulative', 'params': None}\n('threads', '0', 'pool#default/worker-thread', '0', None, 'count/cumulative', None)\n{'object': 'threads', 'locality': '61', 'instance1': None, 'thread_id': None, 'instance2': 'total/total', 'counter': 'count/cumulative,44,154828.184221,[s],2.28135e+09', 'params': None}\n('threads', '61', None, None, 'total/total', 'count/cumulative,44,154828.184221,[s],2.28135e+09', None)\n"
    }
   ],
   "source": [
    "def test_general_counter_form_pattern():\n",
    "    def run_impl(subject):\n",
    "        m = general_counter_form_pattern.match(subject)\n",
    "        assert m is not None\n",
    "        print(m.groupdict())\n",
    "        print(m.groups())\n",
    "    # test\n",
    "    run_impl('/threads{locality#0/pool#default/worker-thread#0}/count/cumulative')\n",
    "    run_impl('/threads{locality#61/total/total}/count/cumulative,44,154828.184221,[s],2.28135e+09')\n",
    "test_general_counter_form_pattern()"
   ]
  },
  {
   "cell_type": "code",
   "execution_count": 9,
   "metadata": {
    "tags": [
     "outputPrepend",
     "outputPrepend",
     "outputPrepend",
     "outputPrepend",
     "outputPrepend",
     "outputPrepend",
     "outputPrepend",
     "outputPrepend",
     "outputPrepend",
     "outputPrepend",
     "outputPrepend",
     "outputPrepend",
     "outputPrepend",
     "outputPrepend",
     "outputPrepend",
     "outputPrepend",
     "outputPrepend",
     "outputPrepend",
     "outputPrepend",
     "outputPrepend",
     "outputPrepend",
     "outputPrepend",
     "outputPrepend",
     "outputPrepend",
     "outputPrepend",
     "outputPrepend",
     "outputPrepend",
     "outputPrepend",
     "outputPrepend",
     "outputPrepend",
     "outputPrepend",
     "outputPrepend",
     "outputPrepend",
     "outputPrepend",
     "outputPrepend",
     "outputPrepend",
     "outputPrepend",
     "outputPrepend",
     "outputPrepend",
     "outputPrepend",
     "outputPrepend",
     "outputPrepend",
     "outputPrepend",
     "outputPrepend",
     "outputPrepend",
     "outputPrepend",
     "outputPrepend",
     "outputPrepend",
     "outputPrepend",
     "outputPrepend",
     "outputPrepend"
    ]
   },
   "outputs": [
    {
     "output_type": "stream",
     "name": "stdout",
     "text": "CPU times: user 2.15 s, sys: 128 ms, total: 2.27 s\nWall time: 2.31 s\n"
    }
   ],
   "source": [
    "%%time\n",
    "all_counters = []\n",
    "for pfx_counter_line in pfx_counter_line_pattern.finditer(r0c):\n",
    "    raw_line = pfx_counter_line.group(0)\n",
    "    line_split = raw_line.split(',')\n",
    "    if len(line_split) == 5:\n",
    "        # unit for count values\n",
    "        line_split += ('1')\n",
    "    assert len(line_split) == 6\n",
    "    raw_general_name = line_split[0]\n",
    "    split_general_form = general_counter_form_pattern.match(raw_general_name)\n",
    "    assert split_general_form is not None\n",
    "    countername_groups = split_general_form.groupdict()\n",
    "    if countername_groups['instance1'] is not None:\n",
    "        countername_groups['instance'] = countername_groups['instance1']\n",
    "    else:\n",
    "        countername_groups['instance'] = countername_groups['instance2']\n",
    "    \n",
    "    del countername_groups['instance1']\n",
    "    del countername_groups['instance2']\n",
    "\n",
    "    all_counters += [(\n",
    "        countername_groups[\"object\"],\n",
    "        countername_groups[\"locality\"],\n",
    "        countername_groups[\"instance\"],\n",
    "        countername_groups[\"counter\"],\n",
    "        countername_groups[\"thread_id\"],\n",
    "        countername_groups[\"params\"],\n",
    "    ) + tuple(line_split)]\n",
    "\n",
    "df = pd.DataFrame(all_counters, columns=[\n",
    "    'objectname', 'locality', 'instance', 'countername', 'thread_id',\n",
    "    'parameters', 'general_form', 'iteration', 'timestamp',\n",
    "    'timestamp_unit', 'value', 'unit'])"
   ]
  },
  {
   "cell_type": "code",
   "execution_count": 10,
   "metadata": {},
   "outputs": [],
   "source": [
    "df.locality = pd.to_numeric(df.locality)\n",
    "df.iteration = pd.to_numeric(df.iteration)\n",
    "df.timestamp = pd.to_numeric(df.timestamp)\n",
    "df.value = pd.to_numeric(df.value)\n",
    "df.loc[df.unit == '[0.01%]', 'unit']= .01"
   ]
  },
  {
   "cell_type": "code",
   "execution_count": 11,
   "metadata": {},
   "outputs": [],
   "source": [
    "# test\n",
    "def check_all_data_units():\n",
    "    x = df.loc[df.unit != '1']\n",
    "    x = x.loc[x.unit != 0.01]\n",
    "    x = x.loc[x.unit != '[s]']\n",
    "    x = x.loc[x.unit != '[ns]']\n",
    "    print(x)"
   ]
  },
  {
   "cell_type": "code",
   "execution_count": 12,
   "metadata": {},
   "outputs": [
    {
     "output_type": "execute_result",
     "data": {
      "text/plain": "       objectname  locality                    instance  countername  \\\n0            agas         0                       total  count/route   \n1            agas         1                       total  count/route   \n2            agas         2                       total  count/route   \n3            agas         3                       total  count/route   \n4            agas         4                       total  count/route   \n...           ...       ...                         ...          ...   \n313803    threads        63  pool#default/worker-thread    idle-rate   \n313804    threads        63  pool#default/worker-thread    idle-rate   \n313805    threads        63  pool#default/worker-thread    idle-rate   \n313806    threads        63  pool#default/worker-thread    idle-rate   \n313807    threads        63  pool#default/worker-thread    idle-rate   \n\n       thread_id parameters  \\\n0           None       None   \n1           None       None   \n2           None       None   \n3           None       None   \n4           None       None   \n...          ...        ...   \n313803        15       None   \n313804        16       None   \n313805        17       None   \n313806        18       None   \n313807        19       None   \n\n                                             general_form  iteration  \\\n0                     /agas{locality#0/total}/count/route          1   \n1                     /agas{locality#1/total}/count/route          1   \n2                     /agas{locality#2/total}/count/route          1   \n3                     /agas{locality#3/total}/count/route          1   \n4                     /agas{locality#4/total}/count/route          1   \n...                                                   ...        ...   \n313803  /threads{locality#63/pool#default/worker-threa...         44   \n313804  /threads{locality#63/pool#default/worker-threa...         44   \n313805  /threads{locality#63/pool#default/worker-threa...         44   \n313806  /threads{locality#63/pool#default/worker-threa...         44   \n313807  /threads{locality#63/pool#default/worker-threa...         44   \n\n            timestamp timestamp_unit   value  unit  \n0            6.103603            [s]     1.0     1  \n1            6.064401            [s]     0.0     1  \n2            6.073655            [s]     0.0     1  \n3            6.050666            [s]     0.0     1  \n4            6.046651            [s]     0.0     1  \n...               ...            ...     ...   ...  \n313803  154828.338373            [s]  9999.0  0.01  \n313804  154828.328259            [s]  9999.0  0.01  \n313805  154828.330569            [s]  9999.0  0.01  \n313806  154828.336126            [s]  9999.0  0.01  \n313807  154828.337712            [s]  9999.0  0.01  \n\n[313808 rows x 12 columns]",
      "text/html": "<div>\n<style scoped>\n    .dataframe tbody tr th:only-of-type {\n        vertical-align: middle;\n    }\n\n    .dataframe tbody tr th {\n        vertical-align: top;\n    }\n\n    .dataframe thead th {\n        text-align: right;\n    }\n</style>\n<table border=\"1\" class=\"dataframe\">\n  <thead>\n    <tr style=\"text-align: right;\">\n      <th></th>\n      <th>objectname</th>\n      <th>locality</th>\n      <th>instance</th>\n      <th>countername</th>\n      <th>thread_id</th>\n      <th>parameters</th>\n      <th>general_form</th>\n      <th>iteration</th>\n      <th>timestamp</th>\n      <th>timestamp_unit</th>\n      <th>value</th>\n      <th>unit</th>\n    </tr>\n  </thead>\n  <tbody>\n    <tr>\n      <th>0</th>\n      <td>agas</td>\n      <td>0</td>\n      <td>total</td>\n      <td>count/route</td>\n      <td>None</td>\n      <td>None</td>\n      <td>/agas{locality#0/total}/count/route</td>\n      <td>1</td>\n      <td>6.103603</td>\n      <td>[s]</td>\n      <td>1.0</td>\n      <td>1</td>\n    </tr>\n    <tr>\n      <th>1</th>\n      <td>agas</td>\n      <td>1</td>\n      <td>total</td>\n      <td>count/route</td>\n      <td>None</td>\n      <td>None</td>\n      <td>/agas{locality#1/total}/count/route</td>\n      <td>1</td>\n      <td>6.064401</td>\n      <td>[s]</td>\n      <td>0.0</td>\n      <td>1</td>\n    </tr>\n    <tr>\n      <th>2</th>\n      <td>agas</td>\n      <td>2</td>\n      <td>total</td>\n      <td>count/route</td>\n      <td>None</td>\n      <td>None</td>\n      <td>/agas{locality#2/total}/count/route</td>\n      <td>1</td>\n      <td>6.073655</td>\n      <td>[s]</td>\n      <td>0.0</td>\n      <td>1</td>\n    </tr>\n    <tr>\n      <th>3</th>\n      <td>agas</td>\n      <td>3</td>\n      <td>total</td>\n      <td>count/route</td>\n      <td>None</td>\n      <td>None</td>\n      <td>/agas{locality#3/total}/count/route</td>\n      <td>1</td>\n      <td>6.050666</td>\n      <td>[s]</td>\n      <td>0.0</td>\n      <td>1</td>\n    </tr>\n    <tr>\n      <th>4</th>\n      <td>agas</td>\n      <td>4</td>\n      <td>total</td>\n      <td>count/route</td>\n      <td>None</td>\n      <td>None</td>\n      <td>/agas{locality#4/total}/count/route</td>\n      <td>1</td>\n      <td>6.046651</td>\n      <td>[s]</td>\n      <td>0.0</td>\n      <td>1</td>\n    </tr>\n    <tr>\n      <th>...</th>\n      <td>...</td>\n      <td>...</td>\n      <td>...</td>\n      <td>...</td>\n      <td>...</td>\n      <td>...</td>\n      <td>...</td>\n      <td>...</td>\n      <td>...</td>\n      <td>...</td>\n      <td>...</td>\n      <td>...</td>\n    </tr>\n    <tr>\n      <th>313803</th>\n      <td>threads</td>\n      <td>63</td>\n      <td>pool#default/worker-thread</td>\n      <td>idle-rate</td>\n      <td>15</td>\n      <td>None</td>\n      <td>/threads{locality#63/pool#default/worker-threa...</td>\n      <td>44</td>\n      <td>154828.338373</td>\n      <td>[s]</td>\n      <td>9999.0</td>\n      <td>0.01</td>\n    </tr>\n    <tr>\n      <th>313804</th>\n      <td>threads</td>\n      <td>63</td>\n      <td>pool#default/worker-thread</td>\n      <td>idle-rate</td>\n      <td>16</td>\n      <td>None</td>\n      <td>/threads{locality#63/pool#default/worker-threa...</td>\n      <td>44</td>\n      <td>154828.328259</td>\n      <td>[s]</td>\n      <td>9999.0</td>\n      <td>0.01</td>\n    </tr>\n    <tr>\n      <th>313805</th>\n      <td>threads</td>\n      <td>63</td>\n      <td>pool#default/worker-thread</td>\n      <td>idle-rate</td>\n      <td>17</td>\n      <td>None</td>\n      <td>/threads{locality#63/pool#default/worker-threa...</td>\n      <td>44</td>\n      <td>154828.330569</td>\n      <td>[s]</td>\n      <td>9999.0</td>\n      <td>0.01</td>\n    </tr>\n    <tr>\n      <th>313806</th>\n      <td>threads</td>\n      <td>63</td>\n      <td>pool#default/worker-thread</td>\n      <td>idle-rate</td>\n      <td>18</td>\n      <td>None</td>\n      <td>/threads{locality#63/pool#default/worker-threa...</td>\n      <td>44</td>\n      <td>154828.336126</td>\n      <td>[s]</td>\n      <td>9999.0</td>\n      <td>0.01</td>\n    </tr>\n    <tr>\n      <th>313807</th>\n      <td>threads</td>\n      <td>63</td>\n      <td>pool#default/worker-thread</td>\n      <td>idle-rate</td>\n      <td>19</td>\n      <td>None</td>\n      <td>/threads{locality#63/pool#default/worker-threa...</td>\n      <td>44</td>\n      <td>154828.337712</td>\n      <td>[s]</td>\n      <td>9999.0</td>\n      <td>0.01</td>\n    </tr>\n  </tbody>\n</table>\n<p>313808 rows × 12 columns</p>\n</div>"
     },
     "metadata": {},
     "execution_count": 12
    }
   ],
   "source": [
    "df"
   ]
  }
 ]
}