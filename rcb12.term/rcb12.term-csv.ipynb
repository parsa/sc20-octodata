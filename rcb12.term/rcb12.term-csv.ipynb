{
 "nbformat": 4,
 "nbformat_minor": 2,
 "metadata": {
  "language_info": {
   "name": "python",
   "codemirror_mode": {
    "name": "ipython",
    "version": 3
   },
   "version": "3.7.7-final"
  },
  "orig_nbformat": 2,
  "file_extension": ".py",
  "mimetype": "text/x-python",
  "name": "python",
  "npconvert_exporter": "python",
  "pygments_lexer": "ipython3",
  "version": 3,
  "kernelspec": {
   "name": "python37764bit54b629de4ec7432ea8f490cfc7e2cda2",
   "display_name": "Python 3.7.7 64-bit"
  }
 },
 "cells": [
  {
   "cell_type": "markdown",
   "metadata": {},
   "source": [
    "Input: Octo-Tiger HPX output, including Performance counter values\n",
    "\n",
    "Output: CSV\n",
    "```csv\n",
    "iteration,locality,subgrids,amr_bound,subgrid_leaves,idle_rate_0,idle_rate_1,...,idle_rate_19\n",
    "```"
   ]
  },
  {
   "cell_type": "code",
   "execution_count": 1,
   "metadata": {},
   "outputs": [],
   "source": [
    "import os, glob\n",
    "import sys, re\n",
    "import pandas as pd"
   ]
  },
  {
   "cell_type": "code",
   "execution_count": 2,
   "metadata": {},
   "outputs": [],
   "source": [
    "run_files = glob.glob('*.txt')"
   ]
  },
  {
   "cell_type": "code",
   "execution_count": 3,
   "metadata": {},
   "outputs": [
    {
     "output_type": "stream",
     "name": "stdout",
     "text": "./64_3.txt\n"
    }
   ],
   "source": [
    "r0f = os.path.join(os.curdir, run_files[0])\n",
    "print(r0f)"
   ]
  },
  {
   "cell_type": "markdown",
   "metadata": {},
   "source": [
    "Counter line search and counter name parsing regex patterns"
   ]
  },
  {
   "cell_type": "code",
   "execution_count": 4,
   "metadata": {},
   "outputs": [],
   "source": [
    "pfx_counter_line_pattern = re.compile('^/[^{]+\\{[^}]+\\}/([^,]+,){4,5}[^,\\n]+$', re.MULTILINE)\n",
    "general_counter_form_pattern = re.compile('/(?P<object>[^{]+)\\{locality#(?P<locality>\\d+)/(?:(?:(?P<instance1>pool#[^/]+/[^#]+)#(?P<thread_id>\\d+))|(?P<instance2>[^}]+))\\}/(?P<counter>[^@]+)(?:@(?P<params>.+))?')"
   ]
  },
  {
   "cell_type": "code",
   "execution_count": 5,
   "metadata": {},
   "outputs": [],
   "source": [
    "def test_general_counter_form_pattern(subject):\n",
    "    m = general_counter_form_pattern.match(subject)\n",
    "    assert m is not None\n",
    "    return m.groupdict()\n",
    "\n",
    "assert test_general_counter_form_pattern('/threads{locality#0/pool#default/worker-thread#0}/count/cumulative') == {'object': 'threads', 'locality': '0', 'instance1': 'pool#default/worker-thread', 'thread_id': '0', 'instance2': None, 'counter': 'count/cumulative', 'params': None}\n",
    "assert test_general_counter_form_pattern('/threads{locality#61/total/total}/count/cumulative,44,154828.184221,[s],2.28135e+09') == {'object': 'threads', 'locality': '61', 'instance1': None, 'thread_id': None, 'instance2': 'total/total', 'counter': 'count/cumulative,44,154828.184221,[s],2.28135e+09', 'params': None}"
   ]
  },
  {
   "cell_type": "code",
   "execution_count": 6,
   "metadata": {},
   "outputs": [],
   "source": [
    "def test_pfx_counter_line_pattern():\n",
    "    subject = '''\n",
    "/octotiger{locality#0/total}/subgrid_leaves,2,3602.438779,[s],32428\n",
    "/octotiger{locality#1/total}/subgrid_leaves,2,3602.428582,[s],34118\n",
    "/octotiger{locality#2/total}/subgrid_leaves,2,3602.430246,[s],33918\n",
    "/octotiger{locality#3/total}/subgrid_leaves,2,3602.431576,[s],34443\n",
    "/octotiger{locality#4/total}/subgrid_leaves,2,3602.436175,[s],33173\n",
    "/threads{locality#59/total/total}/count/cumulative,44,154828.198473,[s],2.3065e+09\n",
    "/threads{locality#60/total/total}/count/cumulative,44,154828.221342,[s],2.24724e+09\n",
    "/threads{locality#61/total/total}/count/cumulative,44,154828.184221,[s],2.28135e+09\n",
    "/threads{locality#62/total/total}/count/cumulative,44,154828.221351,[s],2.20491e+09\n",
    "/threads{locality#63/total/total}/count/cumulative,44,154828.216028,[s],2.05324e+09\n",
    "/threads{locality#0/pool#default/worker-thread#0}/count/cumulative,44,154828.257432,[s],1.14378e+08\n",
    "/threads{locality#0/pool#default/worker-thread#1}/count/cumulative,44,154828.260203,[s],1.05219e+08\n",
    "/threads{locality#0/pool#default/worker-thread#2}/count/cumulative,44,154828.262954,[s],1.04616e+08\n",
    "/threads{locality#0/pool#default/worker-thread#3}/count/cumulative,44,154828.262962,[s],1.04786e+08\n",
    "    '''\n",
    "    return [i.group() for i in pfx_counter_line_pattern.finditer(subject)]\n",
    "\n",
    "assert test_pfx_counter_line_pattern() == [\n",
    "    '/octotiger{locality#0/total}/subgrid_leaves,2,3602.438779,[s],32428',\n",
    "    '/octotiger{locality#1/total}/subgrid_leaves,2,3602.428582,[s],34118',\n",
    "    '/octotiger{locality#2/total}/subgrid_leaves,2,3602.430246,[s],33918',\n",
    "    '/octotiger{locality#3/total}/subgrid_leaves,2,3602.431576,[s],34443',\n",
    "    '/octotiger{locality#4/total}/subgrid_leaves,2,3602.436175,[s],33173',\n",
    "    '/threads{locality#59/total/total}/count/cumulative,44,154828.198473,[s],2.3065e+09',\n",
    "    '/threads{locality#60/total/total}/count/cumulative,44,154828.221342,[s],2.24724e+09',\n",
    "    '/threads{locality#61/total/total}/count/cumulative,44,154828.184221,[s],2.28135e+09',\n",
    "    '/threads{locality#62/total/total}/count/cumulative,44,154828.221351,[s],2.20491e+09',\n",
    "    '/threads{locality#63/total/total}/count/cumulative,44,154828.216028,[s],2.05324e+09',\n",
    "    '/threads{locality#0/pool#default/worker-thread#0}/count/cumulative,44,154828.257432,[s],1.14378e+08',\n",
    "    '/threads{locality#0/pool#default/worker-thread#1}/count/cumulative,44,154828.260203,[s],1.05219e+08',\n",
    "    '/threads{locality#0/pool#default/worker-thread#2}/count/cumulative,44,154828.262954,[s],1.04616e+08',\n",
    "    '/threads{locality#0/pool#default/worker-thread#3}/count/cumulative,44,154828.262962,[s],1.04786e+08'\n",
    "]\n",
    ""
   ]
  },
  {
   "cell_type": "markdown",
   "metadata": {},
   "source": [
    "Read one file for testing"
   ]
  },
  {
   "cell_type": "code",
   "execution_count": 7,
   "metadata": {},
   "outputs": [],
   "source": [
    "with open(r0f, 'r') as r0h:\n",
    "    r0c = r0h.read()"
   ]
  },
  {
   "cell_type": "code",
   "execution_count": 8,
   "metadata": {
    "tags": [
     "outputPrepend",
     "outputPrepend",
     "outputPrepend",
     "outputPrepend",
     "outputPrepend",
     "outputPrepend",
     "outputPrepend",
     "outputPrepend",
     "outputPrepend",
     "outputPrepend",
     "outputPrepend",
     "outputPrepend",
     "outputPrepend",
     "outputPrepend",
     "outputPrepend",
     "outputPrepend",
     "outputPrepend",
     "outputPrepend",
     "outputPrepend",
     "outputPrepend",
     "outputPrepend",
     "outputPrepend",
     "outputPrepend",
     "outputPrepend",
     "outputPrepend",
     "outputPrepend",
     "outputPrepend",
     "outputPrepend",
     "outputPrepend",
     "outputPrepend",
     "outputPrepend",
     "outputPrepend",
     "outputPrepend",
     "outputPrepend",
     "outputPrepend",
     "outputPrepend",
     "outputPrepend",
     "outputPrepend",
     "outputPrepend",
     "outputPrepend",
     "outputPrepend",
     "outputPrepend",
     "outputPrepend",
     "outputPrepend",
     "outputPrepend",
     "outputPrepend",
     "outputPrepend",
     "outputPrepend",
     "outputPrepend",
     "outputPrepend",
     "outputPrepend"
    ]
   },
   "outputs": [
    {
     "output_type": "stream",
     "name": "stdout",
     "text": "CPU times: user 2.14 s, sys: 114 ms, total: 2.26 s\nWall time: 2.28 s\n"
    }
   ],
   "source": [
    "%%time\n",
    "all_counters = []\n",
    "for pfx_counter_line in pfx_counter_line_pattern.finditer(r0c):\n",
    "    raw_line = pfx_counter_line.group(0)\n",
    "    line_split = raw_line.split(',')\n",
    "    if len(line_split) == 5:\n",
    "        # unit for count values\n",
    "        line_split += ('1')\n",
    "    assert len(line_split) == 6\n",
    "    raw_general_name = line_split[0]\n",
    "    split_general_form = general_counter_form_pattern.match(raw_general_name)\n",
    "    assert split_general_form is not None\n",
    "    countername_groups = split_general_form.groupdict()\n",
    "    if countername_groups['instance1'] is not None:\n",
    "        countername_groups['instance'] = countername_groups['instance1']\n",
    "    else:\n",
    "        countername_groups['instance'] = countername_groups['instance2']\n",
    "    \n",
    "    del countername_groups['instance1']\n",
    "    del countername_groups['instance2']\n",
    "\n",
    "    all_counters += [(\n",
    "        countername_groups[\"object\"],\n",
    "        countername_groups[\"locality\"],\n",
    "        countername_groups[\"instance\"],\n",
    "        countername_groups[\"counter\"],\n",
    "        countername_groups[\"thread_id\"],\n",
    "        countername_groups[\"params\"],\n",
    "    ) + tuple(line_split)]\n",
    "\n",
    "df = pd.DataFrame(all_counters, columns=[\n",
    "    'objectname', 'locality', 'instance', 'countername', 'thread_id',\n",
    "    'parameters', 'general_form', 'iteration', 'timestamp',\n",
    "    'timestamp_unit', 'value', 'unit'])\n",
    "assert len(df) != 0"
   ]
  },
  {
   "cell_type": "code",
   "execution_count": 9,
   "metadata": {},
   "outputs": [],
   "source": [
    "df.locality = pd.to_numeric(df.locality, downcast='unsigned')\n",
    "df.iteration = pd.to_numeric(df.iteration, downcast='unsigned')\n",
    "df.timestamp = pd.to_numeric(df.timestamp)\n",
    "df.value = pd.to_numeric(df.value)\n",
    "df.thread_id = pd.to_numeric(df.thread_id, downcast='unsigned')\n",
    "df.loc[df.countername == 'idle-rate', 'value'] *= 0.01"
   ]
  },
  {
   "cell_type": "code",
   "execution_count": 10,
   "metadata": {},
   "outputs": [],
   "source": [
    "# drop AGAS results\n",
    "df = df.loc[df.objectname != 'agas']\n",
    "# drop threads...pool#default/worker-thread...count/cumulative-phases\t\n",
    "df = df.loc[df.countername != 'count/cumulative-phases']\t\n",
    "df = df.loc[df.countername != 'count/cumulative']"
   ]
  },
  {
   "cell_type": "code",
   "execution_count": 11,
   "metadata": {},
   "outputs": [],
   "source": [
    "# remove useless columns\n",
    "\n",
    "# no parameters are expected\n",
    "assert len(df.loc[~df.parameters.isnull()]) == 0\n",
    "del df['parameters']\n",
    "\n",
    "del df['timestamp_unit']\n",
    "\n",
    "# units can only be [0.01%], 1, [s], and [ns]\n",
    "def check_all_data_units():\n",
    "    x = df.loc[(df.unit != '1')]\n",
    "    x = x.loc[x.unit != '[0.01%]']\n",
    "    x = x.loc[x.unit != '[s]']\n",
    "    x = x.loc[x.unit != '[ns]']\n",
    "    assert len(x) == 0\n",
    "check_all_data_units()\n",
    "\n",
    "del df['unit']\n",
    "\n",
    "del df['timestamp']\n",
    "del df['general_form']"
   ]
  },
  {
   "cell_type": "code",
   "execution_count": 12,
   "metadata": {},
   "outputs": [],
   "source": [
    "#df.set_index(['iteration', 'locality', 'objectname', 'instance', 'countername'], inplace=True)"
   ]
  },
  {
   "cell_type": "code",
   "execution_count": 32,
   "metadata": {},
   "outputs": [
    {
     "output_type": "execute_result",
     "data": {
      "text/plain": "       objectname  locality                    instance countername  \\\n5596    octotiger         0                       total    subgrids   \n5597    octotiger         1                       total    subgrids   \n5598    octotiger         2                       total    subgrids   \n5599    octotiger         3                       total    subgrids   \n5600    octotiger         4                       total    subgrids   \n...           ...       ...                         ...         ...   \n313803    threads        63  pool#default/worker-thread   idle-rate   \n313804    threads        63  pool#default/worker-thread   idle-rate   \n313805    threads        63  pool#default/worker-thread   idle-rate   \n313806    threads        63  pool#default/worker-thread   idle-rate   \n313807    threads        63  pool#default/worker-thread   idle-rate   \n\n        thread_id  iteration  value  \n5596          NaN          1   0.00  \n5597          NaN          1   0.00  \n5598          NaN          1   0.00  \n5599          NaN          1   0.00  \n5600          NaN          1   0.00  \n...           ...        ...    ...  \n313803       15.0         44  99.99  \n313804       16.0         44  99.99  \n313805       17.0         44  99.99  \n313806       18.0         44  99.99  \n313807       19.0         44  99.99  \n\n[67584 rows x 7 columns]",
      "text/html": "<div>\n<style scoped>\n    .dataframe tbody tr th:only-of-type {\n        vertical-align: middle;\n    }\n\n    .dataframe tbody tr th {\n        vertical-align: top;\n    }\n\n    .dataframe thead th {\n        text-align: right;\n    }\n</style>\n<table border=\"1\" class=\"dataframe\">\n  <thead>\n    <tr style=\"text-align: right;\">\n      <th></th>\n      <th>objectname</th>\n      <th>locality</th>\n      <th>instance</th>\n      <th>countername</th>\n      <th>thread_id</th>\n      <th>iteration</th>\n      <th>value</th>\n    </tr>\n  </thead>\n  <tbody>\n    <tr>\n      <th>5596</th>\n      <td>octotiger</td>\n      <td>0</td>\n      <td>total</td>\n      <td>subgrids</td>\n      <td>NaN</td>\n      <td>1</td>\n      <td>0.00</td>\n    </tr>\n    <tr>\n      <th>5597</th>\n      <td>octotiger</td>\n      <td>1</td>\n      <td>total</td>\n      <td>subgrids</td>\n      <td>NaN</td>\n      <td>1</td>\n      <td>0.00</td>\n    </tr>\n    <tr>\n      <th>5598</th>\n      <td>octotiger</td>\n      <td>2</td>\n      <td>total</td>\n      <td>subgrids</td>\n      <td>NaN</td>\n      <td>1</td>\n      <td>0.00</td>\n    </tr>\n    <tr>\n      <th>5599</th>\n      <td>octotiger</td>\n      <td>3</td>\n      <td>total</td>\n      <td>subgrids</td>\n      <td>NaN</td>\n      <td>1</td>\n      <td>0.00</td>\n    </tr>\n    <tr>\n      <th>5600</th>\n      <td>octotiger</td>\n      <td>4</td>\n      <td>total</td>\n      <td>subgrids</td>\n      <td>NaN</td>\n      <td>1</td>\n      <td>0.00</td>\n    </tr>\n    <tr>\n      <th>...</th>\n      <td>...</td>\n      <td>...</td>\n      <td>...</td>\n      <td>...</td>\n      <td>...</td>\n      <td>...</td>\n      <td>...</td>\n    </tr>\n    <tr>\n      <th>313803</th>\n      <td>threads</td>\n      <td>63</td>\n      <td>pool#default/worker-thread</td>\n      <td>idle-rate</td>\n      <td>15.0</td>\n      <td>44</td>\n      <td>99.99</td>\n    </tr>\n    <tr>\n      <th>313804</th>\n      <td>threads</td>\n      <td>63</td>\n      <td>pool#default/worker-thread</td>\n      <td>idle-rate</td>\n      <td>16.0</td>\n      <td>44</td>\n      <td>99.99</td>\n    </tr>\n    <tr>\n      <th>313805</th>\n      <td>threads</td>\n      <td>63</td>\n      <td>pool#default/worker-thread</td>\n      <td>idle-rate</td>\n      <td>17.0</td>\n      <td>44</td>\n      <td>99.99</td>\n    </tr>\n    <tr>\n      <th>313806</th>\n      <td>threads</td>\n      <td>63</td>\n      <td>pool#default/worker-thread</td>\n      <td>idle-rate</td>\n      <td>18.0</td>\n      <td>44</td>\n      <td>99.99</td>\n    </tr>\n    <tr>\n      <th>313807</th>\n      <td>threads</td>\n      <td>63</td>\n      <td>pool#default/worker-thread</td>\n      <td>idle-rate</td>\n      <td>19.0</td>\n      <td>44</td>\n      <td>99.99</td>\n    </tr>\n  </tbody>\n</table>\n<p>67584 rows × 7 columns</p>\n</div>"
     },
     "metadata": {},
     "execution_count": 32
    }
   ],
   "source": [
    "df"
   ]
  },
  {
   "cell_type": "code",
   "execution_count": 45,
   "metadata": {},
   "outputs": [
    {
     "output_type": "execute_result",
     "data": {
      "text/plain": "countername         amr_bounds  subgrid_leaves  subgrids\niteration locality                                      \n1         0                0.0             0.0       0.0\n          1                0.0             0.0       0.0\n          2                0.0             0.0       0.0\n          3                0.0             0.0       0.0\n          4                0.0             0.0       0.0\n...                        ...             ...       ...\n44        59           23920.0          6028.0   15481.0\n          60           63612.0         15037.0   25087.0\n          61           11652.0         60117.0   18646.0\n          62           30880.0         18753.0   21916.0\n          63           15616.0         37049.0    9216.0\n\n[2816 rows x 3 columns]",
      "text/html": "<div>\n<style scoped>\n    .dataframe tbody tr th:only-of-type {\n        vertical-align: middle;\n    }\n\n    .dataframe tbody tr th {\n        vertical-align: top;\n    }\n\n    .dataframe thead th {\n        text-align: right;\n    }\n</style>\n<table border=\"1\" class=\"dataframe\">\n  <thead>\n    <tr style=\"text-align: right;\">\n      <th></th>\n      <th>countername</th>\n      <th>amr_bounds</th>\n      <th>subgrid_leaves</th>\n      <th>subgrids</th>\n    </tr>\n    <tr>\n      <th>iteration</th>\n      <th>locality</th>\n      <th></th>\n      <th></th>\n      <th></th>\n    </tr>\n  </thead>\n  <tbody>\n    <tr>\n      <th rowspan=\"5\" valign=\"top\">1</th>\n      <th>0</th>\n      <td>0.0</td>\n      <td>0.0</td>\n      <td>0.0</td>\n    </tr>\n    <tr>\n      <th>1</th>\n      <td>0.0</td>\n      <td>0.0</td>\n      <td>0.0</td>\n    </tr>\n    <tr>\n      <th>2</th>\n      <td>0.0</td>\n      <td>0.0</td>\n      <td>0.0</td>\n    </tr>\n    <tr>\n      <th>3</th>\n      <td>0.0</td>\n      <td>0.0</td>\n      <td>0.0</td>\n    </tr>\n    <tr>\n      <th>4</th>\n      <td>0.0</td>\n      <td>0.0</td>\n      <td>0.0</td>\n    </tr>\n    <tr>\n      <th>...</th>\n      <th>...</th>\n      <td>...</td>\n      <td>...</td>\n      <td>...</td>\n    </tr>\n    <tr>\n      <th rowspan=\"5\" valign=\"top\">44</th>\n      <th>59</th>\n      <td>23920.0</td>\n      <td>6028.0</td>\n      <td>15481.0</td>\n    </tr>\n    <tr>\n      <th>60</th>\n      <td>63612.0</td>\n      <td>15037.0</td>\n      <td>25087.0</td>\n    </tr>\n    <tr>\n      <th>61</th>\n      <td>11652.0</td>\n      <td>60117.0</td>\n      <td>18646.0</td>\n    </tr>\n    <tr>\n      <th>62</th>\n      <td>30880.0</td>\n      <td>18753.0</td>\n      <td>21916.0</td>\n    </tr>\n    <tr>\n      <th>63</th>\n      <td>15616.0</td>\n      <td>37049.0</td>\n      <td>9216.0</td>\n    </tr>\n  </tbody>\n</table>\n<p>2816 rows × 3 columns</p>\n</div>"
     },
     "metadata": {},
     "execution_count": 45
    }
   ],
   "source": [
    "y = df.pivot_table(index=['iteration', 'locality'], columns=['countername'], values='value', dropna=False)\n",
    "del y['idle-rate']\n",
    "y"
   ]
  },
  {
   "cell_type": "code",
   "execution_count": 46,
   "metadata": {},
   "outputs": [
    {
     "output_type": "execute_result",
     "data": {
      "text/plain": "thread_id            0.0    1.0    2.0    3.0    4.0    5.0    6.0    7.0   \\\niteration locality                                                           \n1         0         97.43  97.91  97.97  98.00  98.04  97.95  98.00  97.95   \n          1         99.95  99.97  99.95  99.97  99.98  99.91  99.97  99.97   \n          2         99.94  99.97  99.94  99.90  99.97  99.97  99.97  99.97   \n          3         99.94  99.94  99.95  99.97  99.96  99.97  99.97  99.90   \n          4         99.96  99.80  99.97  99.97  99.97  99.90  99.98  99.98   \n...                   ...    ...    ...    ...    ...    ...    ...    ...   \n44        59        99.99  99.99  99.99  99.99  99.99  99.99  99.99  99.99   \n          60        99.99  99.99  99.99  99.99  99.99  99.99  99.99  99.99   \n          61        99.99  99.99  99.99  99.99  99.99  99.99  99.99  99.99   \n          62        99.99  99.99  99.99  99.99  99.99  99.99  99.99  99.99   \n          63        99.99  99.99  99.99  99.99  99.99  99.99  99.99  99.99   \n\nthread_id            8.0    9.0    10.0   11.0   12.0   13.0   14.0   15.0  \\\niteration locality                                                           \n1         0         97.82  97.89  96.85  99.13  99.07  99.09  99.17  99.05   \n          1         99.91  99.81  99.82  99.97  99.99  99.98  99.98  99.98   \n          2         99.97  99.90  99.98  99.97  99.98  99.97  99.97  99.98   \n          3         99.97  99.98  99.98  99.98  99.98  99.98  99.98  99.97   \n          4         99.94  99.97  99.97  99.97  99.98  99.97  99.97  99.97   \n...                   ...    ...    ...    ...    ...    ...    ...    ...   \n44        59        99.99  99.99  99.99  99.99  99.99  99.99  99.99  99.99   \n          60        99.99  99.99  99.99  99.99  99.99  99.99  99.99  99.99   \n          61        99.99  99.99  99.99  99.99  99.99  99.99  99.99  99.99   \n          62        99.99  99.99  99.99  99.99  99.99  99.99  99.99  99.99   \n          63        99.99  99.99  99.99  99.99  99.99  99.99  99.99  99.99   \n\nthread_id            16.0   17.0   18.0   19.0  \niteration locality                              \n1         0         99.13  99.06  99.13  99.08  \n          1         99.96  99.97  99.99  99.97  \n          2         99.96  99.98  99.98  99.97  \n          3         99.97  99.97  99.98  99.98  \n          4         99.98  99.98  99.98  99.97  \n...                   ...    ...    ...    ...  \n44        59        99.99  99.99  99.99  99.99  \n          60        99.99  99.99  99.99  99.99  \n          61        99.99  99.99  99.99  99.99  \n          62        99.99  99.99  99.99  99.99  \n          63        99.99  99.99  99.99  99.99  \n\n[2816 rows x 20 columns]",
      "text/html": "<div>\n<style scoped>\n    .dataframe tbody tr th:only-of-type {\n        vertical-align: middle;\n    }\n\n    .dataframe tbody tr th {\n        vertical-align: top;\n    }\n\n    .dataframe thead th {\n        text-align: right;\n    }\n</style>\n<table border=\"1\" class=\"dataframe\">\n  <thead>\n    <tr style=\"text-align: right;\">\n      <th></th>\n      <th>thread_id</th>\n      <th>0.0</th>\n      <th>1.0</th>\n      <th>2.0</th>\n      <th>3.0</th>\n      <th>4.0</th>\n      <th>5.0</th>\n      <th>6.0</th>\n      <th>7.0</th>\n      <th>8.0</th>\n      <th>9.0</th>\n      <th>10.0</th>\n      <th>11.0</th>\n      <th>12.0</th>\n      <th>13.0</th>\n      <th>14.0</th>\n      <th>15.0</th>\n      <th>16.0</th>\n      <th>17.0</th>\n      <th>18.0</th>\n      <th>19.0</th>\n    </tr>\n    <tr>\n      <th>iteration</th>\n      <th>locality</th>\n      <th></th>\n      <th></th>\n      <th></th>\n      <th></th>\n      <th></th>\n      <th></th>\n      <th></th>\n      <th></th>\n      <th></th>\n      <th></th>\n      <th></th>\n      <th></th>\n      <th></th>\n      <th></th>\n      <th></th>\n      <th></th>\n      <th></th>\n      <th></th>\n      <th></th>\n      <th></th>\n    </tr>\n  </thead>\n  <tbody>\n    <tr>\n      <th rowspan=\"5\" valign=\"top\">1</th>\n      <th>0</th>\n      <td>97.43</td>\n      <td>97.91</td>\n      <td>97.97</td>\n      <td>98.00</td>\n      <td>98.04</td>\n      <td>97.95</td>\n      <td>98.00</td>\n      <td>97.95</td>\n      <td>97.82</td>\n      <td>97.89</td>\n      <td>96.85</td>\n      <td>99.13</td>\n      <td>99.07</td>\n      <td>99.09</td>\n      <td>99.17</td>\n      <td>99.05</td>\n      <td>99.13</td>\n      <td>99.06</td>\n      <td>99.13</td>\n      <td>99.08</td>\n    </tr>\n    <tr>\n      <th>1</th>\n      <td>99.95</td>\n      <td>99.97</td>\n      <td>99.95</td>\n      <td>99.97</td>\n      <td>99.98</td>\n      <td>99.91</td>\n      <td>99.97</td>\n      <td>99.97</td>\n      <td>99.91</td>\n      <td>99.81</td>\n      <td>99.82</td>\n      <td>99.97</td>\n      <td>99.99</td>\n      <td>99.98</td>\n      <td>99.98</td>\n      <td>99.98</td>\n      <td>99.96</td>\n      <td>99.97</td>\n      <td>99.99</td>\n      <td>99.97</td>\n    </tr>\n    <tr>\n      <th>2</th>\n      <td>99.94</td>\n      <td>99.97</td>\n      <td>99.94</td>\n      <td>99.90</td>\n      <td>99.97</td>\n      <td>99.97</td>\n      <td>99.97</td>\n      <td>99.97</td>\n      <td>99.97</td>\n      <td>99.90</td>\n      <td>99.98</td>\n      <td>99.97</td>\n      <td>99.98</td>\n      <td>99.97</td>\n      <td>99.97</td>\n      <td>99.98</td>\n      <td>99.96</td>\n      <td>99.98</td>\n      <td>99.98</td>\n      <td>99.97</td>\n    </tr>\n    <tr>\n      <th>3</th>\n      <td>99.94</td>\n      <td>99.94</td>\n      <td>99.95</td>\n      <td>99.97</td>\n      <td>99.96</td>\n      <td>99.97</td>\n      <td>99.97</td>\n      <td>99.90</td>\n      <td>99.97</td>\n      <td>99.98</td>\n      <td>99.98</td>\n      <td>99.98</td>\n      <td>99.98</td>\n      <td>99.98</td>\n      <td>99.98</td>\n      <td>99.97</td>\n      <td>99.97</td>\n      <td>99.97</td>\n      <td>99.98</td>\n      <td>99.98</td>\n    </tr>\n    <tr>\n      <th>4</th>\n      <td>99.96</td>\n      <td>99.80</td>\n      <td>99.97</td>\n      <td>99.97</td>\n      <td>99.97</td>\n      <td>99.90</td>\n      <td>99.98</td>\n      <td>99.98</td>\n      <td>99.94</td>\n      <td>99.97</td>\n      <td>99.97</td>\n      <td>99.97</td>\n      <td>99.98</td>\n      <td>99.97</td>\n      <td>99.97</td>\n      <td>99.97</td>\n      <td>99.98</td>\n      <td>99.98</td>\n      <td>99.98</td>\n      <td>99.97</td>\n    </tr>\n    <tr>\n      <th>...</th>\n      <th>...</th>\n      <td>...</td>\n      <td>...</td>\n      <td>...</td>\n      <td>...</td>\n      <td>...</td>\n      <td>...</td>\n      <td>...</td>\n      <td>...</td>\n      <td>...</td>\n      <td>...</td>\n      <td>...</td>\n      <td>...</td>\n      <td>...</td>\n      <td>...</td>\n      <td>...</td>\n      <td>...</td>\n      <td>...</td>\n      <td>...</td>\n      <td>...</td>\n      <td>...</td>\n    </tr>\n    <tr>\n      <th rowspan=\"5\" valign=\"top\">44</th>\n      <th>59</th>\n      <td>99.99</td>\n      <td>99.99</td>\n      <td>99.99</td>\n      <td>99.99</td>\n      <td>99.99</td>\n      <td>99.99</td>\n      <td>99.99</td>\n      <td>99.99</td>\n      <td>99.99</td>\n      <td>99.99</td>\n      <td>99.99</td>\n      <td>99.99</td>\n      <td>99.99</td>\n      <td>99.99</td>\n      <td>99.99</td>\n      <td>99.99</td>\n      <td>99.99</td>\n      <td>99.99</td>\n      <td>99.99</td>\n      <td>99.99</td>\n    </tr>\n    <tr>\n      <th>60</th>\n      <td>99.99</td>\n      <td>99.99</td>\n      <td>99.99</td>\n      <td>99.99</td>\n      <td>99.99</td>\n      <td>99.99</td>\n      <td>99.99</td>\n      <td>99.99</td>\n      <td>99.99</td>\n      <td>99.99</td>\n      <td>99.99</td>\n      <td>99.99</td>\n      <td>99.99</td>\n      <td>99.99</td>\n      <td>99.99</td>\n      <td>99.99</td>\n      <td>99.99</td>\n      <td>99.99</td>\n      <td>99.99</td>\n      <td>99.99</td>\n    </tr>\n    <tr>\n      <th>61</th>\n      <td>99.99</td>\n      <td>99.99</td>\n      <td>99.99</td>\n      <td>99.99</td>\n      <td>99.99</td>\n      <td>99.99</td>\n      <td>99.99</td>\n      <td>99.99</td>\n      <td>99.99</td>\n      <td>99.99</td>\n      <td>99.99</td>\n      <td>99.99</td>\n      <td>99.99</td>\n      <td>99.99</td>\n      <td>99.99</td>\n      <td>99.99</td>\n      <td>99.99</td>\n      <td>99.99</td>\n      <td>99.99</td>\n      <td>99.99</td>\n    </tr>\n    <tr>\n      <th>62</th>\n      <td>99.99</td>\n      <td>99.99</td>\n      <td>99.99</td>\n      <td>99.99</td>\n      <td>99.99</td>\n      <td>99.99</td>\n      <td>99.99</td>\n      <td>99.99</td>\n      <td>99.99</td>\n      <td>99.99</td>\n      <td>99.99</td>\n      <td>99.99</td>\n      <td>99.99</td>\n      <td>99.99</td>\n      <td>99.99</td>\n      <td>99.99</td>\n      <td>99.99</td>\n      <td>99.99</td>\n      <td>99.99</td>\n      <td>99.99</td>\n    </tr>\n    <tr>\n      <th>63</th>\n      <td>99.99</td>\n      <td>99.99</td>\n      <td>99.99</td>\n      <td>99.99</td>\n      <td>99.99</td>\n      <td>99.99</td>\n      <td>99.99</td>\n      <td>99.99</td>\n      <td>99.99</td>\n      <td>99.99</td>\n      <td>99.99</td>\n      <td>99.99</td>\n      <td>99.99</td>\n      <td>99.99</td>\n      <td>99.99</td>\n      <td>99.99</td>\n      <td>99.99</td>\n      <td>99.99</td>\n      <td>99.99</td>\n      <td>99.99</td>\n    </tr>\n  </tbody>\n</table>\n<p>2816 rows × 20 columns</p>\n</div>"
     },
     "metadata": {},
     "execution_count": 46
    }
   ],
   "source": [
    "x = df.pivot_table(index=['iteration', 'locality'], columns=['thread_id'], values='value')\n",
    "x"
   ]
  },
  {
   "cell_type": "code",
   "execution_count": 48,
   "metadata": {},
   "outputs": [],
   "source": [
    "z = pd.concat([y, x], axis=1, sort=False)"
   ]
  },
  {
   "cell_type": "code",
   "execution_count": 49,
   "metadata": {},
   "outputs": [],
   "source": [
    "z.to_csv('rcb12.term.csv')"
   ]
  },
  {
   "cell_type": "code",
   "execution_count": 14,
   "metadata": {},
   "outputs": [
    {
     "output_type": "stream",
     "name": "stdout",
     "text": "['iteration', 'locality', 'objectname', 'instance', 'countername']\n"
    },
    {
     "output_type": "execute_result",
     "data": {
      "text/plain": "          iteration locality objectname                    instance  \\\nthread_id                                                             \n0                 1        0    threads  pool#default/worker-thread   \n1                 1        1    threads  pool#default/worker-thread   \n2                 1        2    threads  pool#default/worker-thread   \n3                 1        3    threads  pool#default/worker-thread   \n4                 1        4    threads  pool#default/worker-thread   \n...             ...      ...        ...                         ...   \n2811             44       59    threads  pool#default/worker-thread   \n2812             44       60    threads  pool#default/worker-thread   \n2813             44       61    threads  pool#default/worker-thread   \n2814             44       62    threads  pool#default/worker-thread   \n2815             44       63    threads  pool#default/worker-thread   \n\n          countername  value                              ...                \\\nthread_id                0.0    1.0    2.0    3.0    4.0  ...   10.0   11.0   \n0           idle-rate  97.43  97.91  97.97  98.00  98.04  ...  96.85  99.13   \n1           idle-rate  99.95  99.97  99.95  99.97  99.98  ...  99.82  99.97   \n2           idle-rate  99.94  99.97  99.94  99.90  99.97  ...  99.98  99.97   \n3           idle-rate  99.94  99.94  99.95  99.97  99.96  ...  99.98  99.98   \n4           idle-rate  99.96  99.80  99.97  99.97  99.97  ...  99.97  99.97   \n...               ...    ...    ...    ...    ...    ...  ...    ...    ...   \n2811        idle-rate  99.99  99.99  99.99  99.99  99.99  ...  99.99  99.99   \n2812        idle-rate  99.99  99.99  99.99  99.99  99.99  ...  99.99  99.99   \n2813        idle-rate  99.99  99.99  99.99  99.99  99.99  ...  99.99  99.99   \n2814        idle-rate  99.99  99.99  99.99  99.99  99.99  ...  99.99  99.99   \n2815        idle-rate  99.99  99.99  99.99  99.99  99.99  ...  99.99  99.99   \n\n                                                                   \nthread_id   12.0   13.0   14.0   15.0   16.0   17.0   18.0   19.0  \n0          99.07  99.09  99.17  99.05  99.13  99.06  99.13  99.08  \n1          99.99  99.98  99.98  99.98  99.96  99.97  99.99  99.97  \n2          99.98  99.97  99.97  99.98  99.96  99.98  99.98  99.97  \n3          99.98  99.98  99.98  99.97  99.97  99.97  99.98  99.98  \n4          99.98  99.97  99.97  99.97  99.98  99.98  99.98  99.97  \n...          ...    ...    ...    ...    ...    ...    ...    ...  \n2811       99.99  99.99  99.99  99.99  99.99  99.99  99.99  99.99  \n2812       99.99  99.99  99.99  99.99  99.99  99.99  99.99  99.99  \n2813       99.99  99.99  99.99  99.99  99.99  99.99  99.99  99.99  \n2814       99.99  99.99  99.99  99.99  99.99  99.99  99.99  99.99  \n2815       99.99  99.99  99.99  99.99  99.99  99.99  99.99  99.99  \n\n[2816 rows x 25 columns]",
      "text/html": "<div>\n<style scoped>\n    .dataframe tbody tr th:only-of-type {\n        vertical-align: middle;\n    }\n\n    .dataframe tbody tr th {\n        vertical-align: top;\n    }\n\n    .dataframe thead tr th {\n        text-align: left;\n    }\n</style>\n<table border=\"1\" class=\"dataframe\">\n  <thead>\n    <tr>\n      <th></th>\n      <th>iteration</th>\n      <th>locality</th>\n      <th>objectname</th>\n      <th>instance</th>\n      <th>countername</th>\n      <th colspan=\"16\" halign=\"left\">value</th>\n    </tr>\n    <tr>\n      <th>thread_id</th>\n      <th></th>\n      <th></th>\n      <th></th>\n      <th></th>\n      <th></th>\n      <th>0.0</th>\n      <th>1.0</th>\n      <th>2.0</th>\n      <th>3.0</th>\n      <th>4.0</th>\n      <th>...</th>\n      <th>10.0</th>\n      <th>11.0</th>\n      <th>12.0</th>\n      <th>13.0</th>\n      <th>14.0</th>\n      <th>15.0</th>\n      <th>16.0</th>\n      <th>17.0</th>\n      <th>18.0</th>\n      <th>19.0</th>\n    </tr>\n  </thead>\n  <tbody>\n    <tr>\n      <th>0</th>\n      <td>1</td>\n      <td>0</td>\n      <td>threads</td>\n      <td>pool#default/worker-thread</td>\n      <td>idle-rate</td>\n      <td>97.43</td>\n      <td>97.91</td>\n      <td>97.97</td>\n      <td>98.00</td>\n      <td>98.04</td>\n      <td>...</td>\n      <td>96.85</td>\n      <td>99.13</td>\n      <td>99.07</td>\n      <td>99.09</td>\n      <td>99.17</td>\n      <td>99.05</td>\n      <td>99.13</td>\n      <td>99.06</td>\n      <td>99.13</td>\n      <td>99.08</td>\n    </tr>\n    <tr>\n      <th>1</th>\n      <td>1</td>\n      <td>1</td>\n      <td>threads</td>\n      <td>pool#default/worker-thread</td>\n      <td>idle-rate</td>\n      <td>99.95</td>\n      <td>99.97</td>\n      <td>99.95</td>\n      <td>99.97</td>\n      <td>99.98</td>\n      <td>...</td>\n      <td>99.82</td>\n      <td>99.97</td>\n      <td>99.99</td>\n      <td>99.98</td>\n      <td>99.98</td>\n      <td>99.98</td>\n      <td>99.96</td>\n      <td>99.97</td>\n      <td>99.99</td>\n      <td>99.97</td>\n    </tr>\n    <tr>\n      <th>2</th>\n      <td>1</td>\n      <td>2</td>\n      <td>threads</td>\n      <td>pool#default/worker-thread</td>\n      <td>idle-rate</td>\n      <td>99.94</td>\n      <td>99.97</td>\n      <td>99.94</td>\n      <td>99.90</td>\n      <td>99.97</td>\n      <td>...</td>\n      <td>99.98</td>\n      <td>99.97</td>\n      <td>99.98</td>\n      <td>99.97</td>\n      <td>99.97</td>\n      <td>99.98</td>\n      <td>99.96</td>\n      <td>99.98</td>\n      <td>99.98</td>\n      <td>99.97</td>\n    </tr>\n    <tr>\n      <th>3</th>\n      <td>1</td>\n      <td>3</td>\n      <td>threads</td>\n      <td>pool#default/worker-thread</td>\n      <td>idle-rate</td>\n      <td>99.94</td>\n      <td>99.94</td>\n      <td>99.95</td>\n      <td>99.97</td>\n      <td>99.96</td>\n      <td>...</td>\n      <td>99.98</td>\n      <td>99.98</td>\n      <td>99.98</td>\n      <td>99.98</td>\n      <td>99.98</td>\n      <td>99.97</td>\n      <td>99.97</td>\n      <td>99.97</td>\n      <td>99.98</td>\n      <td>99.98</td>\n    </tr>\n    <tr>\n      <th>4</th>\n      <td>1</td>\n      <td>4</td>\n      <td>threads</td>\n      <td>pool#default/worker-thread</td>\n      <td>idle-rate</td>\n      <td>99.96</td>\n      <td>99.80</td>\n      <td>99.97</td>\n      <td>99.97</td>\n      <td>99.97</td>\n      <td>...</td>\n      <td>99.97</td>\n      <td>99.97</td>\n      <td>99.98</td>\n      <td>99.97</td>\n      <td>99.97</td>\n      <td>99.97</td>\n      <td>99.98</td>\n      <td>99.98</td>\n      <td>99.98</td>\n      <td>99.97</td>\n    </tr>\n    <tr>\n      <th>...</th>\n      <td>...</td>\n      <td>...</td>\n      <td>...</td>\n      <td>...</td>\n      <td>...</td>\n      <td>...</td>\n      <td>...</td>\n      <td>...</td>\n      <td>...</td>\n      <td>...</td>\n      <td>...</td>\n      <td>...</td>\n      <td>...</td>\n      <td>...</td>\n      <td>...</td>\n      <td>...</td>\n      <td>...</td>\n      <td>...</td>\n      <td>...</td>\n      <td>...</td>\n      <td>...</td>\n    </tr>\n    <tr>\n      <th>2811</th>\n      <td>44</td>\n      <td>59</td>\n      <td>threads</td>\n      <td>pool#default/worker-thread</td>\n      <td>idle-rate</td>\n      <td>99.99</td>\n      <td>99.99</td>\n      <td>99.99</td>\n      <td>99.99</td>\n      <td>99.99</td>\n      <td>...</td>\n      <td>99.99</td>\n      <td>99.99</td>\n      <td>99.99</td>\n      <td>99.99</td>\n      <td>99.99</td>\n      <td>99.99</td>\n      <td>99.99</td>\n      <td>99.99</td>\n      <td>99.99</td>\n      <td>99.99</td>\n    </tr>\n    <tr>\n      <th>2812</th>\n      <td>44</td>\n      <td>60</td>\n      <td>threads</td>\n      <td>pool#default/worker-thread</td>\n      <td>idle-rate</td>\n      <td>99.99</td>\n      <td>99.99</td>\n      <td>99.99</td>\n      <td>99.99</td>\n      <td>99.99</td>\n      <td>...</td>\n      <td>99.99</td>\n      <td>99.99</td>\n      <td>99.99</td>\n      <td>99.99</td>\n      <td>99.99</td>\n      <td>99.99</td>\n      <td>99.99</td>\n      <td>99.99</td>\n      <td>99.99</td>\n      <td>99.99</td>\n    </tr>\n    <tr>\n      <th>2813</th>\n      <td>44</td>\n      <td>61</td>\n      <td>threads</td>\n      <td>pool#default/worker-thread</td>\n      <td>idle-rate</td>\n      <td>99.99</td>\n      <td>99.99</td>\n      <td>99.99</td>\n      <td>99.99</td>\n      <td>99.99</td>\n      <td>...</td>\n      <td>99.99</td>\n      <td>99.99</td>\n      <td>99.99</td>\n      <td>99.99</td>\n      <td>99.99</td>\n      <td>99.99</td>\n      <td>99.99</td>\n      <td>99.99</td>\n      <td>99.99</td>\n      <td>99.99</td>\n    </tr>\n    <tr>\n      <th>2814</th>\n      <td>44</td>\n      <td>62</td>\n      <td>threads</td>\n      <td>pool#default/worker-thread</td>\n      <td>idle-rate</td>\n      <td>99.99</td>\n      <td>99.99</td>\n      <td>99.99</td>\n      <td>99.99</td>\n      <td>99.99</td>\n      <td>...</td>\n      <td>99.99</td>\n      <td>99.99</td>\n      <td>99.99</td>\n      <td>99.99</td>\n      <td>99.99</td>\n      <td>99.99</td>\n      <td>99.99</td>\n      <td>99.99</td>\n      <td>99.99</td>\n      <td>99.99</td>\n    </tr>\n    <tr>\n      <th>2815</th>\n      <td>44</td>\n      <td>63</td>\n      <td>threads</td>\n      <td>pool#default/worker-thread</td>\n      <td>idle-rate</td>\n      <td>99.99</td>\n      <td>99.99</td>\n      <td>99.99</td>\n      <td>99.99</td>\n      <td>99.99</td>\n      <td>...</td>\n      <td>99.99</td>\n      <td>99.99</td>\n      <td>99.99</td>\n      <td>99.99</td>\n      <td>99.99</td>\n      <td>99.99</td>\n      <td>99.99</td>\n      <td>99.99</td>\n      <td>99.99</td>\n      <td>99.99</td>\n    </tr>\n  </tbody>\n</table>\n<p>2816 rows × 25 columns</p>\n</div>"
     },
     "metadata": {},
     "execution_count": 14
    }
   ],
   "source": [
    "df2 = df.copy()\n",
    "\n",
    "# drop data without column id\n",
    "df2.dropna(subset=['thread_id'], inplace=True)\n",
    "\n",
    "df2.set_index(['iteration', 'locality', 'objectname', 'instance', 'countername'], inplace=True)\n",
    "df2 = df2.pivot(columns='thread_id')\n",
    "print(df2.index.names)\n",
    "\n",
    "#df2\n",
    "df3 = df2.reset_index()\n",
    "df3"
   ]
  },
  {
   "cell_type": "code",
   "execution_count": 32,
   "metadata": {},
   "outputs": [
    {
     "output_type": "execute_result",
     "data": {
      "text/plain": "                                                        value\niteration locality objectname instance    countername        \n1         0        agas       total       count/route     1.0\n          1        agas       total       count/route     0.0\n          2        agas       total       count/route     0.0\n          3        agas       total       count/route     0.0\n          4        agas       total       count/route     0.0\n...                                                       ...\n44        59       threads    total/total idle-rate    9999.0\n          60       threads    total/total idle-rate    9999.0\n          61       threads    total/total idle-rate    9999.0\n          62       threads    total/total idle-rate    9999.0\n          63       threads    total/total idle-rate    9999.0\n\n[144848 rows x 1 columns]",
      "text/html": "<div>\n<style scoped>\n    .dataframe tbody tr th:only-of-type {\n        vertical-align: middle;\n    }\n\n    .dataframe tbody tr th {\n        vertical-align: top;\n    }\n\n    .dataframe thead th {\n        text-align: right;\n    }\n</style>\n<table border=\"1\" class=\"dataframe\">\n  <thead>\n    <tr style=\"text-align: right;\">\n      <th></th>\n      <th></th>\n      <th></th>\n      <th></th>\n      <th></th>\n      <th>value</th>\n    </tr>\n    <tr>\n      <th>iteration</th>\n      <th>locality</th>\n      <th>objectname</th>\n      <th>instance</th>\n      <th>countername</th>\n      <th></th>\n    </tr>\n  </thead>\n  <tbody>\n    <tr>\n      <th rowspan=\"5\" valign=\"top\">1</th>\n      <th>0</th>\n      <th>agas</th>\n      <th>total</th>\n      <th>count/route</th>\n      <td>1.0</td>\n    </tr>\n    <tr>\n      <th>1</th>\n      <th>agas</th>\n      <th>total</th>\n      <th>count/route</th>\n      <td>0.0</td>\n    </tr>\n    <tr>\n      <th>2</th>\n      <th>agas</th>\n      <th>total</th>\n      <th>count/route</th>\n      <td>0.0</td>\n    </tr>\n    <tr>\n      <th>3</th>\n      <th>agas</th>\n      <th>total</th>\n      <th>count/route</th>\n      <td>0.0</td>\n    </tr>\n    <tr>\n      <th>4</th>\n      <th>agas</th>\n      <th>total</th>\n      <th>count/route</th>\n      <td>0.0</td>\n    </tr>\n    <tr>\n      <th>...</th>\n      <th>...</th>\n      <th>...</th>\n      <th>...</th>\n      <th>...</th>\n      <td>...</td>\n    </tr>\n    <tr>\n      <th rowspan=\"5\" valign=\"top\">44</th>\n      <th>59</th>\n      <th>threads</th>\n      <th>total/total</th>\n      <th>idle-rate</th>\n      <td>9999.0</td>\n    </tr>\n    <tr>\n      <th>60</th>\n      <th>threads</th>\n      <th>total/total</th>\n      <th>idle-rate</th>\n      <td>9999.0</td>\n    </tr>\n    <tr>\n      <th>61</th>\n      <th>threads</th>\n      <th>total/total</th>\n      <th>idle-rate</th>\n      <td>9999.0</td>\n    </tr>\n    <tr>\n      <th>62</th>\n      <th>threads</th>\n      <th>total/total</th>\n      <th>idle-rate</th>\n      <td>9999.0</td>\n    </tr>\n    <tr>\n      <th>63</th>\n      <th>threads</th>\n      <th>total/total</th>\n      <th>idle-rate</th>\n      <td>9999.0</td>\n    </tr>\n  </tbody>\n</table>\n<p>144848 rows × 1 columns</p>\n</div>"
     },
     "metadata": {},
     "execution_count": 32
    }
   ],
   "source": [
    "df3 = df.copy()\n",
    "df3 = df3.loc[df3.thread_id.isna()]\n",
    "del df3['thread_id']\n",
    "df3"
   ]
  },
  {
   "cell_type": "code",
   "execution_count": 33,
   "metadata": {},
   "outputs": [],
   "source": [
    "df3.reset_index(level='objectname', inplace=True)"
   ]
  },
  {
   "cell_type": "code",
   "execution_count": 37,
   "metadata": {},
   "outputs": [
    {
     "output_type": "execute_result",
     "data": {
      "text/plain": "iteration  locality  instance     countername\n1          0         total        count/route       1.0\n           1         total        count/route       0.0\n           2         total        count/route       0.0\n           3         total        count/route       0.0\n           4         total        count/route       0.0\n                                                  ...  \n44         59        total/total  idle-rate      9999.0\n           60        total/total  idle-rate      9999.0\n           61        total/total  idle-rate      9999.0\n           62        total/total  idle-rate      9999.0\n           63        total/total  idle-rate      9999.0\nName: value, Length: 144848, dtype: float64"
     },
     "metadata": {},
     "execution_count": 37
    }
   ],
   "source": [
    "df3.value"
   ]
  }
 ]
}