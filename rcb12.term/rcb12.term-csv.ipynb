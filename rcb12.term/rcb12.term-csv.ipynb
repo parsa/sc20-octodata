{
 "cells": [
  {
   "cell_type": "markdown",
   "metadata": {},
   "source": [
    "Input: Octo-Tiger HPX output, including Performance counter values\n",
    "\n",
    "Output: CSV\n",
    "```csv\n",
    "iteration,locality,subgrids,amr_bound,subgrid_leaves,idle_rate_0,idle_rate_1,...,idle_rate_19\n",
    "```"
   ]
  },
  {
   "cell_type": "code",
   "execution_count": null,
   "metadata": {},
   "outputs": [],
   "source": [
    "import os, glob\n",
    "import sys, re\n",
    "import pandas as pd"
   ]
  },
  {
   "cell_type": "code",
   "execution_count": null,
   "metadata": {},
   "outputs": [],
   "source": [
    "run_files = glob.glob('*.txt')"
   ]
  },
  {
   "cell_type": "code",
   "execution_count": null,
   "metadata": {},
   "outputs": [],
   "source": [
    "r0f = os.path.join(os.curdir, run_files[0])\n",
    "print(r0f)"
   ]
  },
  {
   "cell_type": "markdown",
   "metadata": {},
   "source": [
    "Counter line search and counter name parsing regex patterns"
   ]
  },
  {
   "cell_type": "code",
   "execution_count": null,
   "metadata": {},
   "outputs": [],
   "source": [
    "pfx_counter_line_pattern = re.compile('^/[^{]+\\{[^}]+\\}/([^,]+,){4,5}[^,\\n]+$', re.MULTILINE)\n",
    "general_counter_form_pattern = re.compile('/(?P<object>[^{]+)\\{locality#(?P<locality>\\d+)/(?:(?:(?P<instance1>pool#[^/]+/[^#]+)#(?P<thread_id>\\d+))|(?P<instance2>[^}]+))\\}/(?P<counter>[^@]+)(?:@(?P<params>.+))?')"
   ]
  },
  {
   "cell_type": "code",
   "execution_count": null,
   "metadata": {},
   "outputs": [],
   "source": [
    "def test_general_counter_form_pattern(subject):\n",
    "    m = general_counter_form_pattern.match(subject)\n",
    "    assert m is not None\n",
    "    return m.groupdict()\n",
    "\n",
    "assert test_general_counter_form_pattern('/threads{locality#0/pool#default/worker-thread#0}/count/cumulative') == {'object': 'threads', 'locality': '0', 'instance1': 'pool#default/worker-thread', 'thread_id': '0', 'instance2': None, 'counter': 'count/cumulative', 'params': None}\n",
    "assert test_general_counter_form_pattern('/threads{locality#61/total/total}/count/cumulative,44,154828.184221,[s],2.28135e+09') == {'object': 'threads', 'locality': '61', 'instance1': None, 'thread_id': None, 'instance2': 'total/total', 'counter': 'count/cumulative,44,154828.184221,[s],2.28135e+09', 'params': None}"
   ]
  },
  {
   "cell_type": "code",
   "execution_count": null,
   "metadata": {},
   "outputs": [],
   "source": [
    "def test_pfx_counter_line_pattern():\n",
    "    subject = '''\n",
    "/octotiger{locality#0/total}/subgrid_leaves,2,3602.438779,[s],32428\n",
    "/octotiger{locality#1/total}/subgrid_leaves,2,3602.428582,[s],34118\n",
    "/octotiger{locality#2/total}/subgrid_leaves,2,3602.430246,[s],33918\n",
    "/octotiger{locality#3/total}/subgrid_leaves,2,3602.431576,[s],34443\n",
    "/octotiger{locality#4/total}/subgrid_leaves,2,3602.436175,[s],33173\n",
    "/threads{locality#59/total/total}/count/cumulative,44,154828.198473,[s],2.3065e+09\n",
    "/threads{locality#60/total/total}/count/cumulative,44,154828.221342,[s],2.24724e+09\n",
    "/threads{locality#61/total/total}/count/cumulative,44,154828.184221,[s],2.28135e+09\n",
    "/threads{locality#62/total/total}/count/cumulative,44,154828.221351,[s],2.20491e+09\n",
    "/threads{locality#63/total/total}/count/cumulative,44,154828.216028,[s],2.05324e+09\n",
    "/threads{locality#0/pool#default/worker-thread#0}/count/cumulative,44,154828.257432,[s],1.14378e+08\n",
    "/threads{locality#0/pool#default/worker-thread#1}/count/cumulative,44,154828.260203,[s],1.05219e+08\n",
    "/threads{locality#0/pool#default/worker-thread#2}/count/cumulative,44,154828.262954,[s],1.04616e+08\n",
    "/threads{locality#0/pool#default/worker-thread#3}/count/cumulative,44,154828.262962,[s],1.04786e+08\n",
    "    '''\n",
    "    return [i.group() for i in pfx_counter_line_pattern.finditer(subject)]\n",
    "\n",
    "assert test_pfx_counter_line_pattern() == [\n",
    "    '/octotiger{locality#0/total}/subgrid_leaves,2,3602.438779,[s],32428',\n",
    "    '/octotiger{locality#1/total}/subgrid_leaves,2,3602.428582,[s],34118',\n",
    "    '/octotiger{locality#2/total}/subgrid_leaves,2,3602.430246,[s],33918',\n",
    "    '/octotiger{locality#3/total}/subgrid_leaves,2,3602.431576,[s],34443',\n",
    "    '/octotiger{locality#4/total}/subgrid_leaves,2,3602.436175,[s],33173',\n",
    "    '/threads{locality#59/total/total}/count/cumulative,44,154828.198473,[s],2.3065e+09',\n",
    "    '/threads{locality#60/total/total}/count/cumulative,44,154828.221342,[s],2.24724e+09',\n",
    "    '/threads{locality#61/total/total}/count/cumulative,44,154828.184221,[s],2.28135e+09',\n",
    "    '/threads{locality#62/total/total}/count/cumulative,44,154828.221351,[s],2.20491e+09',\n",
    "    '/threads{locality#63/total/total}/count/cumulative,44,154828.216028,[s],2.05324e+09',\n",
    "    '/threads{locality#0/pool#default/worker-thread#0}/count/cumulative,44,154828.257432,[s],1.14378e+08',\n",
    "    '/threads{locality#0/pool#default/worker-thread#1}/count/cumulative,44,154828.260203,[s],1.05219e+08',\n",
    "    '/threads{locality#0/pool#default/worker-thread#2}/count/cumulative,44,154828.262954,[s],1.04616e+08',\n",
    "    '/threads{locality#0/pool#default/worker-thread#3}/count/cumulative,44,154828.262962,[s],1.04786e+08'\n",
    "]\n"
   ]
  },
  {
   "cell_type": "markdown",
   "metadata": {},
   "source": [
    "Read one file for testing"
   ]
  },
  {
   "cell_type": "code",
   "execution_count": null,
   "metadata": {},
   "outputs": [],
   "source": [
    "with open(r0f, 'r') as r0h:\n",
    "    r0c = r0h.read()"
   ]
  },
  {
   "cell_type": "code",
   "execution_count": null,
   "metadata": {
    "tags": [
     "outputPrepend",
     "outputPrepend",
     "outputPrepend",
     "outputPrepend",
     "outputPrepend",
     "outputPrepend",
     "outputPrepend",
     "outputPrepend",
     "outputPrepend",
     "outputPrepend",
     "outputPrepend",
     "outputPrepend",
     "outputPrepend",
     "outputPrepend",
     "outputPrepend",
     "outputPrepend",
     "outputPrepend",
     "outputPrepend",
     "outputPrepend",
     "outputPrepend",
     "outputPrepend",
     "outputPrepend",
     "outputPrepend",
     "outputPrepend",
     "outputPrepend",
     "outputPrepend",
     "outputPrepend",
     "outputPrepend",
     "outputPrepend",
     "outputPrepend",
     "outputPrepend",
     "outputPrepend",
     "outputPrepend",
     "outputPrepend",
     "outputPrepend",
     "outputPrepend",
     "outputPrepend",
     "outputPrepend",
     "outputPrepend",
     "outputPrepend",
     "outputPrepend",
     "outputPrepend",
     "outputPrepend",
     "outputPrepend",
     "outputPrepend",
     "outputPrepend",
     "outputPrepend",
     "outputPrepend",
     "outputPrepend",
     "outputPrepend",
     "outputPrepend"
    ]
   },
   "outputs": [],
   "source": [
    "%%time\n",
    "all_counters = []\n",
    "for pfx_counter_line in pfx_counter_line_pattern.finditer(r0c):\n",
    "    raw_line = pfx_counter_line.group(0)\n",
    "    line_split = raw_line.split(',')\n",
    "    if len(line_split) == 5:\n",
    "        # unit for count values\n",
    "        line_split += ('1')\n",
    "    assert len(line_split) == 6\n",
    "    raw_general_name = line_split[0]\n",
    "    split_general_form = general_counter_form_pattern.match(raw_general_name)\n",
    "    assert split_general_form is not None\n",
    "    countername_groups = split_general_form.groupdict()\n",
    "    if countername_groups['instance1'] is not None:\n",
    "        countername_groups['instance'] = countername_groups['instance1']\n",
    "    else:\n",
    "        countername_groups['instance'] = countername_groups['instance2']\n",
    "    \n",
    "    del countername_groups['instance1']\n",
    "    del countername_groups['instance2']\n",
    "\n",
    "    all_counters += [(\n",
    "        countername_groups[\"object\"],\n",
    "        countername_groups[\"locality\"],\n",
    "        countername_groups[\"instance\"],\n",
    "        countername_groups[\"counter\"],\n",
    "        countername_groups[\"thread_id\"],\n",
    "        countername_groups[\"params\"],\n",
    "    ) + tuple(line_split)]\n",
    "\n",
    "df = pd.DataFrame(all_counters, columns=[\n",
    "    'objectname', 'locality', 'instance', 'countername', 'thread_id',\n",
    "    'parameters', 'general_form', 'iteration', 'timestamp',\n",
    "    'timestamp_unit', 'value', 'unit'])\n",
    "assert len(df) != 0"
   ]
  },
  {
   "cell_type": "code",
   "execution_count": null,
   "metadata": {},
   "outputs": [],
   "source": [
    "df.locality = pd.to_numeric(df.locality, downcast='unsigned')\n",
    "df.iteration = pd.to_numeric(df.iteration, downcast='unsigned')\n",
    "df.timestamp = pd.to_numeric(df.timestamp)\n",
    "df.value = pd.to_numeric(df.value)\n",
    "df.thread_id = pd.to_numeric(df.thread_id, downcast='unsigned')\n",
    "df.loc[df.countername == 'idle-rate', 'value'] *= 0.01"
   ]
  },
  {
   "cell_type": "code",
   "execution_count": null,
   "metadata": {},
   "outputs": [],
   "source": [
    "# drop AGAS results\n",
    "df = df.loc[df.objectname != 'agas']\n",
    "# drop threads...pool#default/worker-thread...count/cumulative-phases\t\n",
    "df = df.loc[df.countername != 'count/cumulative-phases']\t\n",
    "df = df.loc[df.countername != 'count/cumulative']"
   ]
  },
  {
   "cell_type": "code",
   "execution_count": null,
   "metadata": {},
   "outputs": [],
   "source": [
    "# remove useless columns\n",
    "\n",
    "# no parameters are expected\n",
    "assert len(df.loc[~df.parameters.isnull()]) == 0\n",
    "del df['parameters']\n",
    "\n",
    "del df['timestamp_unit']\n",
    "\n",
    "# units can only be [0.01%], 1, [s], and [ns]\n",
    "def check_all_data_units():\n",
    "    x = df.loc[(df.unit != '1')]\n",
    "    x = x.loc[x.unit != '[0.01%]']\n",
    "    x = x.loc[x.unit != '[s]']\n",
    "    x = x.loc[x.unit != '[ns]']\n",
    "    assert len(x) == 0\n",
    "check_all_data_units()\n",
    "\n",
    "del df['unit']\n",
    "\n",
    "del df['timestamp']\n",
    "del df['general_form']"
   ]
  },
  {
   "cell_type": "code",
   "execution_count": null,
   "metadata": {},
   "outputs": [],
   "source": [
    "df"
   ]
  },
  {
   "cell_type": "code",
   "execution_count": null,
   "metadata": {},
   "outputs": [],
   "source": [
    "octo_pivot = df.pivot_table(index=['iteration', 'locality'], columns=['countername'], values='value', dropna=False)\n",
    "del octo_pivot['idle-rate']\n",
    "octo_pivot"
   ]
  },
  {
   "cell_type": "code",
   "execution_count": null,
   "metadata": {},
   "outputs": [],
   "source": [
    "idle_rate_pivot = df.pivot_table(index=['iteration', 'locality'], columns=['thread_id'], values='value')\n",
    "idle_rate_pivot"
   ]
  },
  {
   "cell_type": "code",
   "execution_count": null,
   "metadata": {},
   "outputs": [],
   "source": [
    "result = pd.concat([octo_pivot, idle_rate_pivot], axis=1)\n",
    "result"
   ]
  },
  {
   "cell_type": "code",
   "execution_count": null,
   "metadata": {},
   "outputs": [],
   "source": [
    "result.to_csv('rcb12.term.csv')"
   ]
  }
 ],
 "metadata": {
  "file_extension": ".py",
  "kernelspec": {
   "display_name": "Python 3.7.7 64-bit",
   "language": "python",
   "name": "python37764bit54b629de4ec7432ea8f490cfc7e2cda2"
  },
  "language_info": {
   "codemirror_mode": {
    "name": "ipython",
    "version": 3
   },
   "file_extension": ".py",
   "mimetype": "text/x-python",
   "name": "python",
   "nbconvert_exporter": "python",
   "pygments_lexer": "ipython3",
   "version": "3.7.7"
  },
  "mimetype": "text/x-python",
  "name": "python",
  "npconvert_exporter": "python",
  "pygments_lexer": "ipython3",
  "version": 3
 },
 "nbformat": 4,
 "nbformat_minor": 4
}
